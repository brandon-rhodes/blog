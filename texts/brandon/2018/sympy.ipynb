{
 "cells": [
  {
   "cell_type": "markdown",
   "metadata": {},
   "source": [
    "# Learning SymPy while eliminating trigonometry from rotations\n",
    "\n",
    "I have played with Python’s\n",
    "[SimPy symbolic math library](http://simpy.readthedocs.io/en/latest/) before,\n",
    "but for the first time last week I used it to solve a real problem!\n",
    "In the process I had to confront three errors\n",
    "in my understanding of how SymPy works:\n",
    "\n",
    "1. I had somehow imagined that SymPy was secretly storing\n",
    "   all the equations I was feeding it\n",
    "   and would automatically use them later.\n",
    "2. I thought I could convince SymPy to eliminate intermediate symbols.\n",
    "3. And I thought each variable in my problem needed to be a SymPy symbol.\n",
    "\n",
    "While working through these misunderstandings to a solution,\n",
    "I ran across two features that made SymPy’s results\n",
    "easier to use in my Python code than I had expected!\n",
    "\n",
    "1. SymPy not only supports fancy formatting of math formulae,\n",
    "   but can print them as pure Python expressions\n",
    "   ready to be pasted into a Python program.\n",
    "2. SymPy can perform subexpression elimination\n",
    "   to prevent your code\n",
    "   from computing any sub-result twice.\n",
    "\n",
    "The sections of this post tackle in turn each of the items above.\n",
    "\n",
    "## Why did I wind up enlisting SymPy?\n",
    "\n",
    "My gradual elaboration of my\n",
    "[Python astronomy library Skyfield](http://rhodesmill.org/skyfield/)\n",
    "has now reached the verge of producing star charts.\n",
    "To produce a chart,\n",
    "the unit vectors for the sky full of stars\n",
    "need to be rotated\n",
    "so that the center of the chart\n",
    "winds up pointing along one of the coordinate system’s axes.\n",
    "\n",
    "The naive approach requires two fraught crossings\n",
    "of the boundary\n",
    "between the clean and confident realm of Cartesian coordinates\n",
    "and the more troubled realm of spherical coordinates.\n",
    "Given the position $(x, y, z)$ of the star one wants\n",
    "at the center of the chart,\n",
    "the first step is determining its spherical longitude and latitude —\n",
    "the angle $\\phi$ of the vector around the $xy$ plane\n",
    "and its angle $\\theta$ above or below the $xy$ plane:\n",
    "\n",
    "$$ \\eqalign{ \\phi &= \\tan^{-1}(y, x) \\cr \\theta &= \\sin^{-1}(z) } $$\n",
    "\n",
    "These two angles are then used to build two matrices.\n",
    "The first rotates any star $-\\phi$ around the $z$-axis."
   ]
  },
  {
   "cell_type": "code",
   "execution_count": 1,
   "metadata": {},
   "outputs": [
    {
     "name": "stdout",
     "output_type": "stream",
     "text": [
      "Populating the interactive namespace from numpy and matplotlib\n"
     ]
    },
    {
     "data": {
      "text/latex": [
       "$$\\left[\\begin{matrix}\\cos{\\left (\\phi \\right )} & - \\sin{\\left (\\phi \\right )} & 0\\\\\\sin{\\left (\\phi \\right )} & \\cos{\\left (\\phi \\right )} & 0\\\\0 & 0 & 1\\end{matrix}\\right]$$"
      ],
      "text/plain": [
       "⎡cos(\\phi)  -sin(\\phi)  0⎤\n",
       "⎢                        ⎥\n",
       "⎢sin(\\phi)  cos(\\phi)   0⎥\n",
       "⎢                        ⎥\n",
       "⎣    0          0       1⎦"
      ]
     },
     "execution_count": 1,
     "metadata": {},
     "output_type": "execute_result"
    }
   ],
   "source": [
    "%pylab inline\n",
    "from sympy import *\n",
    "init_printing(use_latex='mathjax')\n",
    "π = pi\n",
    "x, y, z, xi, yi, zi, xo, yo, zo, θ, 𝜙 = symbols(\n",
    "    r'x y z x_i y_i z_i x_o y_o z_o \\theta \\phi'\n",
    ")\n",
    "\n",
    "rot_axis3(-𝜙)"
   ]
  },
  {
   "cell_type": "markdown",
   "metadata": {},
   "source": [
    "The second rotates it up towards $+z$ by the angle $blah$."
   ]
  },
  {
   "cell_type": "code",
   "execution_count": 2,
   "metadata": {},
   "outputs": [
    {
     "data": {
      "text/latex": [
       "$$\\left[\\begin{matrix}\\sin{\\left (\\theta \\right )} & 0 & - \\cos{\\left (\\theta \\right )}\\\\0 & 1 & 0\\\\\\cos{\\left (\\theta \\right )} & 0 & \\sin{\\left (\\theta \\right )}\\end{matrix}\\right]$$"
      ],
      "text/plain": [
       "⎡sin(\\theta)  0  -cos(\\theta)⎤\n",
       "⎢                            ⎥\n",
       "⎢     0       1       0      ⎥\n",
       "⎢                            ⎥\n",
       "⎣cos(\\theta)  0  sin(\\theta) ⎦"
      ]
     },
     "execution_count": 2,
     "metadata": {},
     "output_type": "execute_result"
    }
   ],
   "source": [
    "rot_axis2(π/2-θ)"
   ]
  },
  {
   "cell_type": "markdown",
   "metadata": {},
   "source": [
    "Given an input star's position vector $x_i, y_i, z_i$,\n",
    "the result of multiplication by these matrices\n",
    "will be an output vector $x_o, y_o, z_o$\n",
    "where the stars that were originally grouped around the target star in the sky\n",
    "will now be neatly grouped about the top of the $+z$ axis\n",
    "and are ready for projection on to the flat surface of a star chart.\n",
    "\n",
    "## Here be dragons\n",
    "\n",
    "But it’s inelegant to implement the above formulae directly,\n",
    "because they involve a sharp descent\n",
    "from the bright heights of Cartesian coordinates\n",
    "into the dim sublunary world of spherical coordinates.\n",
    "\n",
    "The brilliance of Cartesian coordinates\n",
    "is the admirable symmetry\n",
    "with which they freight their coordinates with significance.\n",
    "Whatever the values of $x$ and $y$, for example,\n",
    "an adjustment $\\epsilon$ to $z$\n",
    "will move the tip of the vector by the exact same amount —\n",
    "whether the vector's length is a mere kilometer\n",
    "or a parsec.\n",
    "\n",
    "By contrast,\n",
    "the significance of the spherical angle $\\phi$\n",
    "around the equator varies wildly.\n",
    "Its effect is greatest\n",
    "when the vector points along the sphere’s equator,\n",
    "but drops all the way to zero —\n",
    "and its floating-point precision is _completely squandered_ —\n",
    "when the vector points at one of the poles.\n",
    "\n",
    "And trigonometric functions themselves involve numerous subtleties\n",
    "when implemented in floating point arithmetic on a computer.\n",
    "I’m indebted to Skyfield contributor\n",
    "[Josh Paterson](https://github.com/JoshPaterson)\n",
    "for bringing to my attention\n",
    "William Kahan’s work on floating point precision\n",
    "— see, for example, §12 “Mangled Angles”\n",
    "of his paper\n",
    "[How Futile are Mindless Assessments of Roundoffin Floating-Point Computation](https://people.eecs.berkeley.edu/~wkahan/Mindless.pdf).\n",
    "\n",
    "But I knew there was a way out.\n",
    "Since the angles $\\theta$ and $\\phi$\n",
    "are in this case derived from $x, y, z$ coordinates in the first place,\n",
    "it should be possible to express the output vector\n",
    "in terms of the inputs\n",
    "using no trigonometry at all —\n",
    "the angles can disappear entirely!\n",
    "\n",
    "But I wasn’t eager to perform all the substitutions by hand,\n",
    "so I turned to Python’s `SymPy` library\n",
    "to perform the symbolic math.\n",
    "\n",
    "## First mistake: thinking there was global state\n",
    "\n",
    "While I know that well-written software\n",
    "avoids maintaining global state,\n",
    "SymPy was so similar to older systems I had experience with —\n",
    "particularly Mathematica —\n",
    "that as I typed each formula\n",
    "I repeatedly imagined\n",
    "that I was feeding knowledge into a central SymPy data store\n",
    "from which it would draw conclusions.\n",
    "\n",
    "But that's simply not how SymPy works.\n",
    "When you say something like:"
   ]
  },
  {
   "cell_type": "code",
   "execution_count": 3,
   "metadata": {},
   "outputs": [
    {
     "data": {
      "text/latex": [
       "$$y = z - 2$$"
      ],
      "text/plain": [
       "y = z - 2"
      ]
     },
     "execution_count": 3,
     "metadata": {},
     "output_type": "execute_result"
    }
   ],
   "source": [
    "Eq(y, z - 2)"
   ]
  },
  {
   "cell_type": "markdown",
   "metadata": {},
   "source": [
    "— you are not enrolling this fact in a magical SymPy data store\n",
    "that is going to remember it later\n",
    "when you then ask it to solve for something:"
   ]
  },
  {
   "cell_type": "code",
   "execution_count": 4,
   "metadata": {},
   "outputs": [
    {
     "data": {
      "text/latex": [
       "$$\\left [ \\right ]$$"
      ],
      "text/plain": [
       "[]"
      ]
     },
     "execution_count": 4,
     "metadata": {},
     "output_type": "execute_result"
    }
   ],
   "source": [
    "solve(y, z)"
   ]
  },
  {
   "cell_type": "markdown",
   "metadata": {},
   "source": [
    "The `solve()` routine found no solutions here\n",
    "because it doesn’t remember that I typed the earlier equation.\n",
    "The `solve()` routine is, in fact, a true function:\n",
    "it knows only the information you provide as arguments.\n",
    "The equation object needs to be provided\n",
    "as one of the arguments to `solve()`:"
   ]
  },
  {
   "cell_type": "code",
   "execution_count": 5,
   "metadata": {},
   "outputs": [
    {
     "data": {
      "text/latex": [
       "$$\\left [ y + 2\\right ]$$"
      ],
      "text/plain": [
       "[y + 2]"
      ]
     },
     "execution_count": 5,
     "metadata": {},
     "output_type": "execute_result"
    }
   ],
   "source": [
    "solve(Eq(y, z - 2), z)"
   ]
  },
  {
   "cell_type": "markdown",
   "metadata": {},
   "source": [
    "It also did not help —\n",
    "as I labored under the delusion\n",
    "that I was slowly feeding new facts into SymPy —\n",
    "that each time I should have written `Eq(a, b + 2)`\n",
    "I instead tended to write `a = b + 2`\n",
    "which, per the usual rules of Python assignment,\n",
    "destroys the symbol `a` and replaces it with an expression object.\n",
    "I suppose I should have been more careful\n",
    "to actually read Sympy’s documentation straight through,\n",
    "instead of dipping in to sample it —\n",
    "after all,\n",
    "SymPy is a project whose\n",
    "[Tutorial](http://docs.sympy.org/latest/tutorial/index.html)\n",
    "ominously puts the section “Gotchas” _ahead_ of the section “Basic Operations”!\n",
    "\n",
    "## Second mistake: I though I could convince SymPy to eliminate variables\n",
    "\n",
    "I prefer thinking about trigonometry in the \"forwards\" direction:\n",
    "\n",
    "$$ z = sin(\\theta) $$\n",
    "\n",
    "It always feels backwards for the human,\n",
    "rather than the machine,\n",
    "to be in charge of flipping the equation around\n",
    "to unnatural arc-trigonometry:\n",
    "\n",
    "$$ \\theta = sin^{-1}(z) $$\n",
    "\n",
    "SymPy was indeed willing to invert the trigonometry\n",
    "when only two variables were involved:"
   ]
  },
  {
   "cell_type": "code",
   "execution_count": 6,
   "metadata": {},
   "outputs": [
    {
     "data": {
      "text/latex": [
       "$$\\left [ - \\operatorname{asin}{\\left (z \\right )} + \\pi, \\quad \\operatorname{asin}{\\left (z \\right )}\\right ]$$"
      ],
      "text/plain": [
       "[-asin(z) + π, asin(z)]"
      ]
     },
     "execution_count": 6,
     "metadata": {},
     "output_type": "execute_result"
    }
   ],
   "source": [
    "solve(Eq(z, sin(θ)), θ)"
   ]
  },
  {
   "cell_type": "markdown",
   "metadata": {},
   "source": [
    "The problem is that I never figured out how to ask SymPy\n",
    "to eliminate intermediate variables that I wasn’t interested in —\n",
    "in this case, I want the angles to disappear entirely\n",
    "so that Cartesian outputs can be expressed directly\n",
    "as functions of Cartesian inputs.\n",
    "To take a simpler example,\n",
    "I can’t figure out how to ask SymPy to eliminate $\\theta$\n",
    "from this system of two equations\n",
    "so that the output $z_o$ is expressed directly as a function of $z$:"
   ]
  },
  {
   "cell_type": "code",
   "execution_count": 7,
   "metadata": {},
   "outputs": [
    {
     "data": {
      "text/latex": [
       "$$\\left \\{ z_{o} : \\cos{\\left (\\theta \\right )}\\right \\}$$"
      ],
      "text/plain": [
       "{zₒ: cos(\\theta)}"
      ]
     },
     "execution_count": 7,
     "metadata": {},
     "output_type": "execute_result"
    }
   ],
   "source": [
    "solve([\n",
    "    Eq(z, sin(θ)),\n",
    "    Eq(zo, cos(θ)),\n",
    "], zo)\n"
   ]
  },
  {
   "cell_type": "markdown",
   "metadata": {},
   "source": [
    "If SymPy does have the capacity to eliminate intermediate variables,\n",
    "then several of hours of work with the library —\n",
    "and numerous visits to Stack Overflow —\n",
    "left me without any insight into how to accomplish it.\n",
    "\n",
    "## Third mistake: Thinking everything needed to be a SymPy symbol\n",
    "\n",
    "The entire reason that I thrashed around trying to eliminate symbols was,\n",
    "it turns out, because I had created too many!\n",
    "\n",
    "I had expected that my angles $\\theta$ and $\\phi$\n",
    "would be SymPy symbols in my Python code.\n",
    "But as I thrashed about trying to convince SymPy to eliminate them,\n",
    "I stumbled on the approach\n",
    "of treating `θ` and `𝜙` as plain Python names\n",
    "for SymPy expression objects:"
   ]
  },
  {
   "cell_type": "code",
   "execution_count": 8,
   "metadata": {},
   "outputs": [],
   "source": [
    "θ = asin(z)\n",
    "𝜙 = atan2(y, x)"
   ]
  },
  {
   "cell_type": "markdown",
   "metadata": {},
   "source": [
    "The surprise came when I used these expressions to build a rotation matrix:"
   ]
  },
  {
   "cell_type": "code",
   "execution_count": 9,
   "metadata": {},
   "outputs": [
    {
     "data": {
      "text/latex": [
       "$$\\left[\\begin{matrix}\\frac{x}{\\sqrt{x^{2} + y^{2}}} & - \\frac{y}{\\sqrt{x^{2} + y^{2}}} & 0\\\\\\frac{y}{\\sqrt{x^{2} + y^{2}}} & \\frac{x}{\\sqrt{x^{2} + y^{2}}} & 0\\\\0 & 0 & 1\\end{matrix}\\right]$$"
      ],
      "text/plain": [
       "⎡     x            -y         ⎤\n",
       "⎢────────────  ────────────  0⎥\n",
       "⎢   _________     _________   ⎥\n",
       "⎢  ╱  2    2     ╱  2    2    ⎥\n",
       "⎢╲╱  x  + y    ╲╱  x  + y     ⎥\n",
       "⎢                             ⎥\n",
       "⎢     y             x         ⎥\n",
       "⎢────────────  ────────────  0⎥\n",
       "⎢   _________     _________   ⎥\n",
       "⎢  ╱  2    2     ╱  2    2    ⎥\n",
       "⎢╲╱  x  + y    ╲╱  x  + y     ⎥\n",
       "⎢                             ⎥\n",
       "⎣     0             0        1⎦"
      ]
     },
     "execution_count": 9,
     "metadata": {},
     "output_type": "execute_result"
    }
   ],
   "source": [
    "rot_axis3(-𝜙)"
   ]
  },
  {
   "cell_type": "markdown",
   "metadata": {},
   "source": [
    "Amazing!\n",
    "Without my even asking,\n",
    "SymPy has gone ahead and applied a series of trigonometric identities\n",
    "to rewrite the matrix so that it can be computed directly\n",
    "from my input variables.\n",
    "\n",
    "All I needed was to express the complete coordinate transformation,\n",
    "confident that SymPy would simplify everywhere it was possible:"
   ]
  },
  {
   "cell_type": "code",
   "execution_count": 10,
   "metadata": {},
   "outputs": [],
   "source": [
    "xo, yo, zo = rot_axis2(π/2-θ) * rot_axis3(-𝜙) * Matrix([xi, yi, zi])"
   ]
  },
  {
   "cell_type": "markdown",
   "metadata": {},
   "source": [
    "This results in a formula for the first output coordinate:"
   ]
  },
  {
   "cell_type": "code",
   "execution_count": 11,
   "metadata": {},
   "outputs": [
    {
     "data": {
      "text/latex": [
       "$$\\frac{x x_{i} z}{\\sqrt{x^{2} + y^{2}}} - \\frac{y y_{i} z}{\\sqrt{x^{2} + y^{2}}} - z_{i} \\sqrt{- z^{2} + 1}$$"
      ],
      "text/plain": [
       "                                    __________\n",
       "   x⋅xᵢ⋅z         y⋅yᵢ⋅z           ╱    2     \n",
       "──────────── - ──────────── - zᵢ⋅╲╱  - z  + 1 \n",
       "   _________      _________                   \n",
       "  ╱  2    2      ╱  2    2                    \n",
       "╲╱  x  + y     ╲╱  x  + y                     "
      ]
     },
     "execution_count": 11,
     "metadata": {},
     "output_type": "execute_result"
    }
   ],
   "source": [
    "xo"
   ]
  },
  {
   "cell_type": "markdown",
   "metadata": {},
   "source": [
    "And the second:"
   ]
  },
  {
   "cell_type": "code",
   "execution_count": 12,
   "metadata": {},
   "outputs": [
    {
     "data": {
      "text/latex": [
       "$$\\frac{x y_{i}}{\\sqrt{x^{2} + y^{2}}} + \\frac{x_{i} y}{\\sqrt{x^{2} + y^{2}}}$$"
      ],
      "text/plain": [
       "    x⋅yᵢ           xᵢ⋅y    \n",
       "──────────── + ────────────\n",
       "   _________      _________\n",
       "  ╱  2    2      ╱  2    2 \n",
       "╲╱  x  + y     ╲╱  x  + y  "
      ]
     },
     "execution_count": 12,
     "metadata": {},
     "output_type": "execute_result"
    }
   ],
   "source": [
    "yo"
   ]
  },
  {
   "cell_type": "markdown",
   "metadata": {},
   "source": [
    "And the third:"
   ]
  },
  {
   "cell_type": "code",
   "execution_count": 13,
   "metadata": {},
   "outputs": [
    {
     "data": {
      "text/latex": [
       "$$\\frac{x x_{i} \\sqrt{- z^{2} + 1}}{\\sqrt{x^{2} + y^{2}}} - \\frac{y y_{i} \\sqrt{- z^{2} + 1}}{\\sqrt{x^{2} + y^{2}}} + z z_{i}$$"
      ],
      "text/plain": [
       "        __________           __________       \n",
       "       ╱    2               ╱    2            \n",
       "x⋅xᵢ⋅╲╱  - z  + 1    y⋅yᵢ⋅╲╱  - z  + 1        \n",
       "────────────────── - ────────────────── + z⋅zᵢ\n",
       "      _________            _________          \n",
       "     ╱  2    2            ╱  2    2           \n",
       "   ╲╱  x  + y           ╲╱  x  + y            "
      ]
     },
     "execution_count": 13,
     "metadata": {},
     "output_type": "execute_result"
    }
   ],
   "source": [
    "zo"
   ]
  },
  {
   "cell_type": "markdown",
   "metadata": {},
   "source": [
    "I was done — I could now compute the rotated coordinates\n",
    "without leaving the Cartesian domain!\n",
    "\n",
    "## Icing #1: SymPy can print Python syntax\n",
    "\n",
    "Next, I needed to substitute the formulae\n",
    "back into my Python code.\n",
    "\n",
    "With many mathematical libraries,\n",
    "the procedure would have been tedious —\n",
    "I would have had to manually type each multiplication, addition, and ``sqrt()``\n",
    "without committing one of my typical sign errors.\n",
    "\n",
    "But, happily, a stray ``print()`` that I’d run\n",
    "had revealed a delightful property of SymPy:\n",
    "while it's capable of producing beautiful fully rendered math\n",
    "when used in a Jupyter notebook,\n",
    "its native language when asked to print plain text\n",
    "is to produce fully valid Python\n",
    "for the entire mathematically expression!"
   ]
  },
  {
   "cell_type": "code",
   "execution_count": 14,
   "metadata": {},
   "outputs": [
    {
     "name": "stdout",
     "output_type": "stream",
     "text": [
      "x*x_i*z/sqrt(x**2 + y**2) - y*y_i*z/sqrt(x**2 + y**2) - z_i*sqrt(-z**2 + 1)\n"
     ]
    }
   ],
   "source": [
    "print(xo)"
   ]
  },
  {
   "cell_type": "markdown",
   "metadata": {},
   "source": [
    "I could paste the resulting expressions directly into Skyfield.\n",
    "\n",
    "## Icing #2: SymPy supports sub-expression elimination\n",
    "\n",
    "As you read the output expressions, above,\n",
    "you probably felt your redundancy hackles rising\n",
    "as you read all of the repeated sub-expressions.\n",
    "Pasting the three formulae into a Python function\n",
    "would result in a common value like ``sqrt(x**2 + y**2)``\n",
    "being recomputed a half-dozen times.\n",
    "\n",
    "Happily, I by accident ran across another SymPy routine, ``cse()``,\n",
    "which performs exactly the operation\n",
    "I had been planning to do by hand:\n",
    "it recognizes common sub-expressions and pulls them out:"
   ]
  },
  {
   "cell_type": "code",
   "execution_count": 15,
   "metadata": {},
   "outputs": [
    {
     "name": "stdout",
     "output_type": "stream",
     "text": [
      "t0 = sqrt(-z**2 + 1)\n",
      "t1 = 1/sqrt(x**2 + y**2)\n",
      "t2 = t1*x*x_i\n",
      "t3 = t1*y*y_i\n",
      "\n",
      "xo = -t0*z_i + t2*z - t3*z\n",
      "yo = t1*x*y_i + t1*x_i*y\n",
      "zo = t0*t2 - t0*t3 + z*z_i\n"
     ]
    }
   ],
   "source": [
    "common, (xo, yo, zo) = cse([xo, yo, zo], numbered_symbols('t'))\n",
    "for symbol, expression in common:\n",
    "    print(symbol, '=', expression)\n",
    "print()\n",
    "print('xo =', xo)\n",
    "print('yo =', yo)\n",
    "print('zo =', zo)"
   ]
  },
  {
   "cell_type": "markdown",
   "metadata": {},
   "source": [
    "The result is Python code\n",
    "that I can paste directly into Skyfield\n",
    "without the temptation to perform any further tweaks —\n",
    "letting me return to my star chart code\n",
    "in the confidence that the underlying rotations have been computed flawlessly."
   ]
  }
 ],
 "metadata": {},
 "nbformat": 4,
 "nbformat_minor": 2
}
