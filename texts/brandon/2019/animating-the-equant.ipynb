{
 "cells": [
  {
   "cell_type": "markdown",
   "metadata": {},
   "source": [
    "# Animating Ptolemy’s Equant with Python, SVG, and CSS\n",
    "\n",
     "[**UPDATE:** A full Solar System model is now available that you can view, animated using the techniques described in this post! See [Ptolemy’s cosmos, to scale](https://rhodesmill.org/ptolemy/).]\n",
    "\n",
    "You will recall\n",
    "my [previous blog post](https://rhodesmill.org/brandon/2018/matplotlib-blit-repair/)\n",
    "that tried to build the necessary scaffolding\n",
    "for me to finally write up my 2017 PyCon Ireland keynote\n",
    "on the structure of the Medieval universe.\n",
    "It ran into several problems with [matplotlib animations](https://matplotlib.org/3.1.1/api/animation_api.html) —\n",
    "but, having written that post,\n",
    "I realized that the problem ran deeper.\n",
    "\n",
    "How could *any* animation show a Solar System,\n",
    "when a Solar System’s motion never exactly repeats?\n",
    "The orbital periods of the planets aren’t exact multiples of each other,\n",
    "and don’t provide a moment\n",
    "when the planets reach their original positions\n",
    "and the animation can start over again.\n",
    "At whatever moment an animation finished\n",
    "and looped back to the beginning,\n",
    "the planets would visibly and jarringly jump back to their original position.\n",
    "\n",
    "But then I remembered that modern browsers support animation directly,\n",
    "and thought:\n",
    "could a python script produce an SVG diagram\n",
    "with a separate CSS animation for each planet,\n",
    "that repeated each time that specific planet finished a revolution?\n",
    "\n",
    "The result would be an animated Solar System\n",
    "that fits into a few thousand bytes,\n",
    "would render with perfect clarity,\n",
    "and runs continuously for as long has the viewer was willing to watch!\n",
    "\n",
    "But there’s a problem.\n",
    "\n",
    "The CSS animation mechanism is perfect\n",
    "for the simplest possible planetary orbit: uniform circular motion.\n",
    "Here’s a simple SVG diagram in which a planet\n",
    "and the line connecting it to the origin\n",
    "are grouped within a single `<g>` element."
   ]
  },
  {
   "cell_type": "code",
   "execution_count": 1,
   "metadata": {},
   "outputs": [
    {
     "name": "stdout",
     "output_type": "stream",
     "text": [
      "Populating the interactive namespace from numpy and matplotlib\n"
     ]
    },
    {
     "data": {
      "text/html": [
       "\n",
       "<svg version=\"1.1\" width=220 height=220>\n",
       " <g transform=\"translate(110, 110)\">\n",
       "  <circle cx=0 cy=0 r=100 stroke=lightgray stroke-width=1 fill=none />\n",
       "  <g class=\"anim stationary\">\n",
       "   <line x1=0 y1=0 x2=100 y2=0 stroke=lightgray />\n",
       "   <circle cx=100 cy=0 r=5 fill=#bb0 />\n",
       "  </g>\n",
       "  <circle cx=0 cy=0 r=3 fill=#040 />\n",
       " </g>\n",
       "</svg>\n"
      ],
      "text/plain": [
       "<IPython.core.display.HTML object>"
      ]
     },
     "execution_count": 1,
     "metadata": {},
     "output_type": "execute_result"
    }
   ],
   "source": [
    "%pylab inline\n",
    "from IPython.display import HTML\n",
    "𝜏 = 2.0 * pi\n",
    "\n",
    "circular_svg = '''\n",
    "<svg version=\"1.1\" width=220 height=220>\n",
    " <g transform=\"translate(110, 110)\">\n",
    "  <circle cx=0 cy=0 r=100 stroke=lightgray stroke-width=1 fill=none />\n",
    "  <g class=\"anim %s\">\n",
    "   <line x1=0 y1=0 x2=100 y2=0 stroke=lightgray />\n",
    "   <circle cx=100 cy=0 r=5 fill=#bb0 />\n",
    "  </g>\n",
    "  <circle cx=0 cy=0 r=3 fill=#040 />\n",
    " </g>\n",
    "</svg>\n",
    "'''\n",
    "\n",
    "HTML(circular_svg % 'stationary')"
   ]
  },
  {
   "cell_type": "markdown",
   "metadata": {},
   "source": [
    "We use `translate()` to move (0,0) to the middle of the diagram\n",
    "where it can serve as the circle’s center.\n",
    "We paint a big circle for the orbit,\n",
    "small circles to mark the orbit’s center and a planet,\n",
    "and a line to link them.\n",
    "\n",
    "<!-- more -->\n",
    "\n",
    "Note, in passing, the great glory of embedding SVG in HTML — such elegance!\n",
    "While raw SVG files are required to be noisy and bureaucratic XML,\n",
    "SVG embedded in HTML is instead parsed using the same ergonomic SGML rules\n",
    "that are used to parse HTML itself.\n",
    "It requires no `xmlns:` declaration,\n",
    "no double quote noise around simple words and numbers,\n",
    "and — most importantly for our purposes —\n",
    "supports its own `<style>` element without any `CDATA`.\n",
    "\n",
    "We can animate this SVG using just a few lines of CSS:\n"
   ]
  },
  {
   "cell_type": "code",
   "execution_count": 2,
   "metadata": {},
   "outputs": [
    {
     "data": {
      "text/html": [
       "\n",
       "<svg version=\"1.1\" width=220 height=220>\n",
       " <g transform=\"translate(110, 110)\">\n",
       "  <circle cx=0 cy=0 r=100 stroke=lightgray stroke-width=1 fill=none />\n",
       "  <g class=\"anim uniform\">\n",
       "   <line x1=0 y1=0 x2=100 y2=0 stroke=lightgray />\n",
       "   <circle cx=100 cy=0 r=5 fill=#bb0 />\n",
       "  </g>\n",
       "  <circle cx=0 cy=0 r=3 fill=#040 />\n",
       " </g>\n",
       "</svg>\n",
       "\n",
       "<style>\n",
       ".anim {\n",
       " animation-duration: 10s;\n",
       " animation-iteration-count: infinite;\n",
       "} \n",
       ".uniform {\n",
       " animation-name: uniform;\n",
       " animation-timing-function: linear;\n",
       "}\n",
       "@keyframes uniform {\n",
       " to {transform: rotate(360deg);}\n",
       "}\n",
       "</style>\n"
      ],
      "text/plain": [
       "<IPython.core.display.HTML object>"
      ]
     },
     "execution_count": 2,
     "metadata": {},
     "output_type": "execute_result"
    }
   ],
   "source": [
    "circular_style = '''\n",
    "<style>\n",
    ".anim {\n",
    " animation-duration: 10s;\n",
    " animation-iteration-count: infinite;\n",
    "} \n",
    ".uniform {\n",
    " animation-name: uniform;\n",
    " animation-timing-function: linear;\n",
    "}\n",
    "@keyframes uniform {\n",
    " to {transform: rotate(360deg);}\n",
    "}\n",
    "</style>\n",
    "'''\n",
    "\n",
    "HTML(circular_svg % 'uniform' + circular_style)"
   ]
  },
  {
   "cell_type": "markdown",
   "metadata": {},
   "source": [
    "The result is perfect uniform circular motion,\n",
    "that will run forever in the browser without any further work.\n",
    "\n",
    "So what's the problem?\n",
    "\n",
    "The problem is that the ancient Greeks determined, alas,\n",
    "that none of the planets proceeds across the sky\n",
    "with uniform circular motion.\n",
    "The planets that come closest —\n",
    "the Moon and Sun —\n",
    "are still not perfectly uniform in their motion,\n",
    "running faster on one side of their orbit and slower on the other.\n",
    "(The Greeks defined a “planet”\n",
    "as any object that moves against the background of stars,\n",
    "so the Sun and Moon qualified as planets.)\n",
    "\n",
    "To better model the planets’ motion,\n",
    "a Greek scientist named Claudius Ptolemy\n",
    "living in the Greek colonial city of Alexandria in Egypt\n",
    "invented the *equant:*\n",
    "the idea that the center of uniform circular motion\n",
    "might be a different point than the center of the orbit.\n",
    "An equant offset from the orbit’s center\n",
    "would make the planet faster on one side of its orbit\n",
    "and slower on the other side,\n",
    "exactly as observed.\n",
    "\n",
    "Which raises a problem for us:\n",
    "can the equant be animated using CSS?\n",
    "\n",
    "It’s easy enough, at least, to construct the static diagram.\n",
    "We now have two centers.\n",
    "The planet rides along the circle, as before,\n",
    "but the moving line that sweeps at a uniform rate\n",
    "is now centered off to the right.\n",
    "Its motion, happily, can be animated by the CSS we’ve already written.\n"
   ]
  },
  {
   "cell_type": "code",
   "execution_count": 3,
   "metadata": {},
   "outputs": [
    {
     "data": {
      "text/html": [
       "\n",
       "<svg version=\"1.1\" width=300 height=220>\n",
       " <g transform=\"translate(110, 110)\">\n",
       "  <circle cx=0 cy=0 r=2 fill=gray />\n",
       "  <circle cx=0 cy=0 r=100 stroke=lightgray stroke-width=1 fill=none />\n",
       "  <g class=\"anim stationary\">\n",
       "   <circle cx=100 cy=0 r=5 fill=#bb0 />\n",
       "  </g>\n",
       "  <g transform=\"translate(70, 0)\">\n",
       "   <circle cx=0 cy=0 r=2 fill=gray />\n",
       "   <g class=\"anim uniform\">\n",
       "    <line x1=0 y1=0 x2=170 y2=0 stroke=lightgray />\n",
       "   </g>\n",
       "  </g>\n",
       " </g>\n",
       "</svg>\n"
      ],
      "text/plain": [
       "<IPython.core.display.HTML object>"
      ]
     },
     "execution_count": 3,
     "metadata": {},
     "output_type": "execute_result"
    }
   ],
   "source": [
    "equant_svg = '''\n",
    "<svg version=\"1.1\" width=300 height=220>\n",
    " <g transform=\"translate(110, 110)\">\n",
    "  <circle cx=0 cy=0 r=2 fill=gray />\n",
    "  <circle cx=0 cy=0 r=100 stroke=lightgray stroke-width=1 fill=none />\n",
    "  <g class=\"anim %s\">\n",
    "   <circle cx=100 cy=0 r=5 fill=#bb0 />\n",
    "  </g>\n",
    "  <g transform=\"translate(%s, 0)\">\n",
    "   <circle cx=0 cy=0 r=2 fill=gray />\n",
    "   <g class=\"anim uniform\">\n",
    "    <line x1=0 y1=0 x2=%s y2=0 stroke=lightgray />\n",
    "   </g>\n",
    "  </g>\n",
    " </g>\n",
    "</svg>\n",
    "'''\n",
    "\n",
    "HTML(equant_svg % ('stationary', 70, 170))"
   ]
  },
  {
   "cell_type": "markdown",
   "metadata": {},
   "source": [
    "The problem is getting the planet to move.\n",
    "Its motion will now have to be more complicated,\n",
    "because uniform circular motion won’t keep it aligned\n",
    "with the equant’s revolution:\n"
   ]
  },
  {
   "cell_type": "code",
   "execution_count": 4,
   "metadata": {},
   "outputs": [
    {
     "data": {
      "text/html": [
       "\n",
       "<svg version=\"1.1\" width=300 height=220>\n",
       " <g transform=\"translate(110, 110)\">\n",
       "  <circle cx=0 cy=0 r=2 fill=gray />\n",
       "  <circle cx=0 cy=0 r=100 stroke=lightgray stroke-width=1 fill=none />\n",
       "  <g class=\"anim uniform\">\n",
       "   <circle cx=100 cy=0 r=5 fill=#bb0 />\n",
       "  </g>\n",
       "  <g transform=\"translate(70, 0)\">\n",
       "   <circle cx=0 cy=0 r=2 fill=gray />\n",
       "   <g class=\"anim uniform\">\n",
       "    <line x1=0 y1=0 x2=170 y2=0 stroke=lightgray />\n",
       "   </g>\n",
       "  </g>\n",
       " </g>\n",
       "</svg>\n"
      ],
      "text/plain": [
       "<IPython.core.display.HTML object>"
      ]
     },
     "execution_count": 4,
     "metadata": {},
     "output_type": "execute_result"
    }
   ],
   "source": [
    "HTML(equant_svg % ('uniform', 70, 170))"
   ]
  },
  {
   "cell_type": "markdown",
   "metadata": {},
   "source": [
    "As you can see,\n",
    "a planet with uniform circular motion\n",
    "runs ahead of the equant for half of its orbit\n",
    "and then falls behind schedule for the remaining half.\n",
    "\n",
    "Unfortunately CSS makes no provision for this special sort of motion;\n",
    "its `animation-timing-function` does not support the value `equant`.\n",
    "But it does offer one alternative:\n",
    "motion can be specified using a Bézier curve.\n",
    "\n",
    "Can Python’s numeric ecosystem\n",
    "help us generate the right Bézier parameters\n",
    "to animate the equant?\n",
    "\n",
    "From the\n",
    "[Wikipedia’s entry on the Equant](https://en.wikipedia.org/wiki/Equant)\n",
    "we can learn the formula\n",
    "that relates the angle *M* of the uniform circular motion\n",
    "to the angle *E* of the planet along its orbit:\n"
   ]
  },
  {
   "cell_type": "code",
   "execution_count": 6,
   "metadata": {},
   "outputs": [
    {
     "data": {
      "image/png": "[encoded data removed]",
      "text/plain": [
       "<Figure size 432x288 with 1 Axes>"
      ]
     },
     "metadata": {
      "needs_background": "light"
     },
     "output_type": "display_data"
    }
   ],
   "source": [
    "def equant_E(M, e):\n",
    "    return M - arcsin(e * np.sin(M))\n",
    "\n",
    "M = linspace(0, 𝜏)\n",
    "E = equant_E(M, 0.7)  # 70 pixel offset / 100 pixel circle\n",
    "plot(M, E);"
   ]
  },
  {
   "cell_type": "markdown",
   "metadata": {},
   "source": [
    "The curve has exactly the shape we expect:\n",
    "the planet moves slowly at first,\n",
    "accelerates to its maximum speed (steepest slope)\n",
    "at 𝜏/2 —\n",
    "the point on its orbit farthest from the equant —\n",
    "then slows again until it reaches its starting point at an angle of 𝜏.\n",
    "\n",
    "The tool that CSS offers for controlling non-linear animation\n",
    "is a cubic Bézier Curve starting at the coordinate (0,0)\n",
    "and ending at (1,1).\n",
    "Substituting these fixed coordinates\n",
    "into the generic formula on\n",
    "[the Wikipedia’s Bézier Curve page](https://en.wikipedia.org/wiki/B%C3%A9zier_curve),\n",
    "we get:\n"
   ]
  },
  {
   "cell_type": "code",
   "execution_count": 7,
   "metadata": {},
   "outputs": [],
   "source": [
    "def bezier(t, x1, y1, x2, y2):\n",
    "    m = 1 - t\n",
    "    p = 3 * m * t\n",
    "    b, c, d = p * m, p * t, t * t * t\n",
    "    return (b * x1 + c * x2 + d,\n",
    "            b * y1 + c * y2 + d)"
   ]
  },
  {
   "cell_type": "markdown",
   "metadata": {},
   "source": [
    "The curve’s formula is specially designed\n",
    "so that the curve leaves the origin with an angle and velocity\n",
    "determined by the line from (0,0) to (*x*₁,*y*₁),\n",
    "then dives in towards its destination\n",
    "at an angle and speed determined by the line from (*x*₂,*y*₂) to (1,1).\n",
    "For example,\n",
    "we can ask the curve to launch out at a low angle along the x-axis\n",
    "and then, at the top of the diagram,\n",
    "to finish with a similar horizontal approach to its endpoint —\n",
    "producing a spline that reminds us of the equant’s motion:\n"
   ]
  },
  {
   "cell_type": "code",
   "execution_count": 8,
   "metadata": {},
   "outputs": [
    {
     "data": {
      "text/plain": [
       "[<matplotlib.lines.Line2D at 0x7f617d9e7b38>]"
      ]
     },
     "execution_count": 8,
     "metadata": {},
     "output_type": "execute_result"
    },
    {
     "data": {
      "image/png": "[encoded data removed]",
      "text/plain": [
       "<Figure size 432x288 with 1 Axes>"
      ]
     },
     "metadata": {
      "needs_background": "light"
     },
     "output_type": "display_data"
    }
   ],
   "source": [
    "t = linspace(0, 1)\n",
    "xb, yb = bezier(t, 0.8, 0, 0.2, 1)\n",
    "plot(xb, yb, '.-')"
   ]
  },
  {
   "cell_type": "markdown",
   "metadata": {},
   "source": [
    "Can Python help us refine the positions\n",
    "of the points (*x*₁,*y*₁) and (*x*₂,*y*₂)\n",
    "so the spline comes very close to the shape of the equant?\n",
    "\n",
    "SciPy provides a `curve_fit()` function\n",
    "that searches for the parameters that will make one curve\n",
    "as close as possible to the shape of a target curve,\n",
    "but it carries a requirement:\n",
    "the target curve and the test curve\n",
    "both need to provide *y* values\n",
    "that correspond to the same set of *x*’s —\n",
    "or, in our case, to the same input *M* array.\n",
    "\n",
    "The Bézier curve we’ve produced, alas,\n",
    "does not satisfy this criterion.\n",
    "A Bézier curve is rather independently minded\n",
    "about both its *x*’s and its *y*’s.\n",
    "Driven by its input parameter *t*,\n",
    "the Bézier’s output *x* and *y* coordinates\n",
    "make their own decisions\n",
    "about whether to space themselves close together or far apart\n",
    "as the curve swings from its origin to its destination.\n",
    "You can see that the example curve above\n",
    "starts at a high velocity with points spaced far apart,\n",
    "slows down in the middle as the curve moves steeply upward\n",
    "and points come close together,\n",
    "then finishes by accelerating again to its destination at the upper right.\n",
    "We need *x*’s spaced evenly instead.\n",
    "\n",
    "Fortunately, NumPy has a solution!\n",
    "It offers an interpolation routine\n",
    "that takes a curve as input\n",
    "and uses it to interpolate *y* positions for a new input array *x*.\n",
    "What happens if we ask for the Bézier curve\n",
    "to be mapped atop our input array *M*?\n"
   ]
  },
  {
   "cell_type": "code",
   "execution_count": 9,
   "metadata": {},
   "outputs": [
    {
     "data": {
      "text/plain": [
       "[<matplotlib.lines.Line2D at 0x7f617d94af60>]"
      ]
     },
     "execution_count": 9,
     "metadata": {},
     "output_type": "execute_result"
    },
    {
     "data": {
      "image/png": "[encoded data removed]",
      "text/plain": [
       "<Figure size 432x288 with 1 Axes>"
      ]
     },
     "metadata": {
      "needs_background": "light"
     },
     "output_type": "display_data"
    }
   ],
   "source": [
    "plot(M, interp(M, xb, yb), '.-')"
   ]
  },
  {
   "cell_type": "markdown",
   "metadata": {},
   "source": [
    "Whoops.\n",
    "\n",
    "The result looks rather comic:\n",
    "the entire Bézier curve has been squashed\n",
    "into only about one-sixth of the range of *M*.\n",
    "We forgot that our input arrays\n",
    "have two completely different domains:\n",
    "uniform circular motion *M* runs from 0 to 𝜏,\n",
    "while a CSS Bézier curve runs from 0 to 1.\n",
    "\n",
    "The Bézier curve needs to be scaled up\n",
    "to cover the entire domain of *M*:\n"
   ]
  },
  {
   "cell_type": "code",
   "execution_count": 11,
   "metadata": {},
   "outputs": [
    {
     "data": {
      "text/plain": [
       "[<matplotlib.lines.Line2D at 0x7f617d8bd748>]"
      ]
     },
     "execution_count": 11,
     "metadata": {},
     "output_type": "execute_result"
    },
    {
     "data": {
      "image/png": "[encoded data removed]",
      "text/plain": [
       "<Figure size 432x288 with 1 Axes>"
      ]
     },
     "metadata": {
      "needs_background": "light"
     },
     "output_type": "display_data"
    }
   ],
   "source": [
    "plot(M, interp(M, xb * 𝜏, yb * 𝜏), '.-')"
   ]
  },
  {
   "cell_type": "markdown",
   "metadata": {},
   "source": [
    "To let `curve_fit()` do its job successfully,\n",
    "let's create a wrapper\n",
    "that scales points between *M*₀ and *M*₁\n",
    "into the range [0,1] for input to the Bézier function,\n",
    "and whose output range [0,1] is then expanded to produce output between *E*₀ and *E*₁.\n"
   ]
  },
  {
   "cell_type": "code",
   "execution_count": 13,
   "metadata": {},
   "outputs": [],
   "source": [
    "def scaled_bezier(M0, M1, E0, E1):\n",
    "    def bez(M, x1, y1, x2, y2):\n",
    "        t = linspace(0, 1)\n",
    "        xb, yb = bezier(t, x1, y1, x2, y2)\n",
    "        x = (M - M0) / (M1 - M0)\n",
    "        y = interp(x, xb, yb)\n",
    "        return E0 + (E1 - E0) * y\n",
    "    return bez"
   ]
  },
  {
   "cell_type": "markdown",
   "metadata": {},
   "source": [
    "We can now ask SciPy\n",
    "to find a Bézier curve\n",
    "that approximates the equant:\n"
   ]
  },
  {
   "cell_type": "code",
   "execution_count": 14,
   "metadata": {},
   "outputs": [
    {
     "data": {
      "text/plain": [
       "array([0.47532029, 0.06537691, 0.52467971, 0.93462309])"
      ]
     },
     "execution_count": 14,
     "metadata": {},
     "output_type": "execute_result"
    }
   ],
   "source": [
    "from scipy.optimize import curve_fit\n",
    "\n",
    "bez = scaled_bezier(0, 𝜏, 0, 𝜏)\n",
    "guess = [0.5, 0.0, 0.5, 1.0]\n",
    "args, v = curve_fit(bez, M, E, guess, bounds=[0,1])\n",
    "args"
   ]
  },
  {
   "cell_type": "markdown",
   "metadata": {},
   "source": [
    "Success!\n",
    "The Bézier curve, shown here by orange dots,\n",
    "looks like a fairly close approximation for the equant:"
   ]
  },
  {
   "cell_type": "code",
   "execution_count": 15,
   "metadata": {},
   "outputs": [
    {
     "data": {
      "text/plain": [
       "[<matplotlib.lines.Line2D at 0x7f617d97ed68>]"
      ]
     },
     "execution_count": 15,
     "metadata": {},
     "output_type": "execute_result"
    },
    {
     "data": {
      "image/png": "[encoded data removed]",
      "text/plain": [
       "<Figure size 432x288 with 1 Axes>"
      ]
     },
     "metadata": {
      "needs_background": "light"
     },
     "output_type": "display_data"
    }
   ],
   "source": [
    "plot(M, E)\n",
    "plot(M, bez(M, *args), '.')"
   ]
  },
  {
   "cell_type": "markdown",
   "metadata": {},
   "source": [
    "How closely will the resulting animation\n",
    "represent the true rotation of the equant?\n"
   ]
  },
  {
   "cell_type": "code",
   "execution_count": 17,
   "metadata": {},
   "outputs": [
    {
     "data": {
      "text/plain": [
       "1.980801996224498"
      ]
     },
     "execution_count": 17,
     "metadata": {},
     "output_type": "execute_result"
    }
   ],
   "source": [
    "max(abs(E - bez(M, *args))) * 360 / 𝜏"
   ]
  },
  {
   "cell_type": "markdown",
   "metadata": {},
   "source": [
    "This indicates that at the worst spots,\n",
    "this curve will lead or lag the true rotation\n",
    "by almost 2° of arc.\n",
    "Will that be noticeable?\n",
    "Let’s take a look!\n",
    "Here’s CSS that will use a custom animation function\n",
    "to control rotation speed:\n"
   ]
  },
  {
   "cell_type": "code",
   "execution_count": 18,
   "metadata": {},
   "outputs": [],
   "source": [
    "bezier1_css = '''\n",
    "<style>\n",
    ".bezier1 {\n",
    "  animation-name: bezier1;\n",
    "}\n",
    "@keyframes bezier1 {\n",
    " from {animation-timing-function: %s}\n",
    " to {transform: rotate(360deg)}\n",
    "}\n",
    "</style>\n",
    "'''"
   ]
  },
  {
   "cell_type": "markdown",
   "metadata": {},
   "source": [
    "And a routine to properly format the function:\n"
   ]
  },
  {
   "cell_type": "code",
   "execution_count": 19,
   "metadata": {},
   "outputs": [
    {
     "data": {
      "text/plain": [
       "'cubic-bezier(0.475, 0.065, 0.525, 0.935)'"
      ]
     },
     "execution_count": 19,
     "metadata": {},
     "output_type": "execute_result"
    }
   ],
   "source": [
    "def cb(args):\n",
    "    argstr = ', '.join('%.3f' % n for n in args)\n",
    "    return 'cubic-bezier(%s)' % argstr\n",
    "\n",
    "cb(args)"
   ]
  },
  {
   "cell_type": "markdown",
   "metadata": {},
   "source": [
    "Does the result produce an equant and a planet\n",
    "that appear to rotate together?\n"
   ]
  },
  {
   "cell_type": "code",
   "execution_count": 20,
   "metadata": {},
   "outputs": [
    {
     "data": {
      "text/html": [
       "\n",
       "<svg version=\"1.1\" width=300 height=220>\n",
       " <g transform=\"translate(110, 110)\">\n",
       "  <circle cx=0 cy=0 r=2 fill=gray />\n",
       "  <circle cx=0 cy=0 r=100 stroke=lightgray stroke-width=1 fill=none />\n",
       "  <g class=\"anim bezier1\">\n",
       "   <circle cx=100 cy=0 r=5 fill=#bb0 />\n",
       "  </g>\n",
       "  <g transform=\"translate(70, 0)\">\n",
       "   <circle cx=0 cy=0 r=2 fill=gray />\n",
       "   <g class=\"anim uniform\">\n",
       "    <line x1=0 y1=0 x2=170 y2=0 stroke=lightgray />\n",
       "   </g>\n",
       "  </g>\n",
       " </g>\n",
       "</svg>\n",
       "\n",
       "<style>\n",
       ".bezier1 {\n",
       "  animation-name: bezier1;\n",
       "}\n",
       "@keyframes bezier1 {\n",
       " from {animation-timing-function: cubic-bezier(0.475, 0.065, 0.525, 0.935)}\n",
       " to {transform: rotate(360deg)}\n",
       "}\n",
       "</style>\n"
      ],
      "text/plain": [
       "<IPython.core.display.HTML object>"
      ]
     },
     "execution_count": 20,
     "metadata": {},
     "output_type": "execute_result"
    }
   ],
   "source": [
    "css = bezier1_css % cb(args)\n",
    "HTML(equant_svg % ('bezier1', 70, 170) + css)"
   ]
  },
  {
   "cell_type": "markdown",
   "metadata": {},
   "source": [
    "Drat.\n",
    "\n",
    "The result is uninspiring.\n",
    "The planet clearly lags behind, then moves ahead of,\n",
    "the target set by the sweeping line of the equant.\n",
    "It turns out that 2° is pretty noticeable.\n",
    "\n",
    "There is an old rule\n",
    "for approximating motion with a Bézier curve:\n",
    "if one curve doesn’t work,\n",
    "then try more!\n",
    "\n",
    "I tried two curves;\n",
    "the improvement was not enough.\n",
    "So I tried three,\n",
    "and the result is much better.\n",
    "Here’s a quick loop\n",
    "that splits our curve into three\n",
    "at the *M* values 𝜏/3 and 2𝜏/3,\n",
    "and finds the Bézier parameters for each third of the curve.\n",
    "The result will be 3 `keyframes`\n",
    "that run in succession,\n",
    "each controlled by a different Bézier curve.\n"
   ]
  },
  {
   "cell_type": "code",
   "execution_count": 21,
   "metadata": {},
   "outputs": [
    {
     "name": "stdout",
     "output_type": "stream",
     "text": [
      "0.000% {\n",
      " transform: rotate(0.000rad);\n",
      " animation-timing-function: cubic-bezier(0.480, 0.206, 0.681, 0.333);\n",
      "}\n",
      "33.333% {\n",
      " transform: rotate(1.443rad);\n",
      " animation-timing-function: cubic-bezier(0.298, 0.264, 0.702, 0.736);\n",
      "}\n",
      "66.667% {\n",
      " transform: rotate(4.840rad);\n",
      " animation-timing-function: cubic-bezier(0.319, 0.667, 0.520, 0.794);\n",
      "}\n",
      "\n"
     ]
    }
   ],
   "source": [
    "KEYFRAME = '''\\\n",
    "%.3f%% {\n",
    " transform: rotate(%.3frad);\n",
    " animation-timing-function: %s;\n",
    "}\n",
    "'''\n",
    "\n",
    "boundaries = [0, 𝜏/3, 2*𝜏/3, 𝜏]\n",
    "keyframes = []\n",
    "for M0, M1 in zip(boundaries[:-1], boundaries[1:]):\n",
    "    M = linspace(M0, M1)\n",
    "    E = equant_E(M, 0.7)\n",
    "    bez = scaled_bezier(M0, M1, E[0], E[-1])\n",
    "    args, v = curve_fit(bez, M, E, bounds=[0,1])\n",
    "    percent = M0 / 𝜏 * 100\n",
    "    keyframe = KEYFRAME % (percent, E[0], cb(args))\n",
    "    keyframes.append(keyframe)\n",
    "    \n",
    "print(''.join(keyframes))"
   ]
  },
  {
   "cell_type": "markdown",
   "metadata": {},
   "source": [
    "The CSS otherwise looks the same as before.\n"
   ]
  },
  {
   "cell_type": "code",
   "execution_count": 22,
   "metadata": {},
   "outputs": [],
   "source": [
    "bezier2_css = '''\n",
    "<style>\n",
    ".bezier2 {\n",
    "  animation-name: bezier2;\n",
    "}\n",
    "@keyframes bezier2 {\n",
    " %s\n",
    " to {transform: rotate(360deg)}\n",
    "}\n",
    "</style>\n",
    "'''"
   ]
  },
  {
   "cell_type": "markdown",
   "metadata": {},
   "source": [
    "But, this time, the visual output is stunning!\n",
    "The planet seems to follow the equant’s motion perfectly,\n",
    "moving slowly when close to the equant point,\n",
    "and very rapidly when on the opposite side of its orbit.\n"
   ]
  },
  {
   "cell_type": "code",
   "execution_count": 23,
   "metadata": {},
   "outputs": [
    {
     "data": {
      "text/html": [
       "\n",
       "<svg version=\"1.1\" width=300 height=220>\n",
       " <g transform=\"translate(110, 110)\">\n",
       "  <circle cx=0 cy=0 r=2 fill=gray />\n",
       "  <circle cx=0 cy=0 r=100 stroke=lightgray stroke-width=1 fill=none />\n",
       "  <g class=\"anim bezier2\">\n",
       "   <circle cx=100 cy=0 r=5 fill=#bb0 />\n",
       "  </g>\n",
       "  <g transform=\"translate(70, 0)\">\n",
       "   <circle cx=0 cy=0 r=2 fill=gray />\n",
       "   <g class=\"anim uniform\">\n",
       "    <line x1=0 y1=0 x2=170 y2=0 stroke=lightgray />\n",
       "   </g>\n",
       "  </g>\n",
       " </g>\n",
       "</svg>\n",
       "\n",
       "<style>\n",
       ".bezier2 {\n",
       "  animation-name: bezier2;\n",
       "}\n",
       "@keyframes bezier2 {\n",
       " 0.000% {\n",
       " transform: rotate(0.000rad);\n",
       " animation-timing-function: cubic-bezier(0.480, 0.206, 0.681, 0.333);\n",
       "}\n",
       "33.333% {\n",
       " transform: rotate(1.443rad);\n",
       " animation-timing-function: cubic-bezier(0.298, 0.264, 0.702, 0.736);\n",
       "}\n",
       "66.667% {\n",
       " transform: rotate(4.840rad);\n",
       " animation-timing-function: cubic-bezier(0.319, 0.667, 0.520, 0.794);\n",
       "}\n",
       "\n",
       " to {transform: rotate(360deg)}\n",
       "}\n",
       "</style>\n"
      ],
      "text/plain": [
       "<IPython.core.display.HTML object>"
      ]
     },
     "execution_count": 23,
     "metadata": {},
     "output_type": "execute_result"
    }
   ],
   "source": [
    "css = bezier2_css % ''.join(keyframes)\n",
    "html = equant_svg % ('bezier2', 70, 170) + css\n",
    "HTML(html)"
   ]
  },
  {
   "cell_type": "markdown",
   "metadata": {},
   "source": [
    "And the best part\n",
    "is that the animation does not involve matplotlib,\n",
    "isn’t delivered as raster graphics,\n",
    "and won’t involve a trade-off between file size and visual quality.\n",
    "Instead, we’ve delivered it to the browser\n",
    "using less than 1k characters!\n"
   ]
  },
  {
   "cell_type": "code",
   "execution_count": 24,
   "metadata": {},
   "outputs": [
    {
     "data": {
      "text/plain": [
       "892"
      ]
     },
     "execution_count": 24,
     "metadata": {},
     "output_type": "execute_result"
    }
   ],
   "source": [
    "len(html)"
   ]
  },
  {
   "cell_type": "markdown",
   "metadata": {},
   "source": [
    "And in return we enjoy a crisp and accurate animation.\n",
    "\n",
    "With this technique,\n",
    "I'm now ready to move forward!\n",
    "Finally, after these years of delay,\n",
    "I’ll use my next few blog posts\n",
    "to build from these simpler pieces\n",
    "a complete Ptolemaic model of the solar system —\n",
    "all animated in the browser\n",
    "without any  matplotlib involved.\n"
   ]
  }
 ],
 "metadata": {
  "date": "23 August 2019",
  "kernelspec": {
   "display_name": "Python 3",
   "language": "python",
   "name": "python3"
  },
  "language_info": {
   "codemirror_mode": {
    "name": "ipython",
    "version": 3
   },
   "file_extension": ".py",
   "mimetype": "text/x-python",
   "name": "python",
   "nbconvert_exporter": "python",
   "pygments_lexer": "ipython3",
   "version": "3.7.3"
  }
 },
 "nbformat": 4,
 "nbformat_minor": 2
}
