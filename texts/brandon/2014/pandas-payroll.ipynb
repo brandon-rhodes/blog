{
 "metadata": {
  "name": ""
 },
 "nbformat": 3,
 "nbformat_minor": 0,
 "worksheets": [
  {
   "cells": [
    {
     "cell_type": "code",
     "collapsed": false,
     "input": [
      "import pandas as pd"
     ],
     "language": "python",
     "metadata": {},
     "outputs": [],
     "prompt_number": 1
    },
    {
     "cell_type": "markdown",
     "metadata": {},
     "source": [
      "## Pandas lets you bring your own objects"
     ]
    },
    {
     "cell_type": "code",
     "collapsed": false,
     "input": [
      "from decimal import Decimal\n",
      "\n",
      "zero = Decimal('0.00')\n",
      "cent = Decimal('0.01')\n",
      "\n",
      "def d(string):\n",
      "    return Decimal(string.replace(',', ''))\n",
      "\n",
      "def c(value):\n",
      "    return value.quantize(cent)"
     ],
     "language": "python",
     "metadata": {},
     "outputs": [],
     "prompt_number": 2
    },
    {
     "cell_type": "code",
     "collapsed": false,
     "input": [
      "df = pd.DataFrame(index=range(1, 12+1))\n",
      "df['wage'] = d('11,000.00')\n",
      "\n",
      "print df"
     ],
     "language": "python",
     "metadata": {},
     "outputs": [
      {
       "output_type": "stream",
       "stream": "stdout",
       "text": [
        "        wage\n",
        "1   11000.00\n",
        "2   11000.00\n",
        "3   11000.00\n",
        "4   11000.00\n",
        "5   11000.00\n",
        "6   11000.00\n",
        "7   11000.00\n",
        "8   11000.00\n",
        "9   11000.00\n",
        "10  11000.00\n",
        "11  11000.00\n",
        "12  11000.00\n"
       ]
      }
     ],
     "prompt_number": 3
    },
    {
     "cell_type": "code",
     "collapsed": false,
     "input": [
      "from luca.taxes import TaxSchedule"
     ],
     "language": "python",
     "metadata": {},
     "outputs": [],
     "prompt_number": 4
    },
    {
     "cell_type": "markdown",
     "metadata": {},
     "source": [
      "## Mapping is suddenly worth it"
     ]
    },
    {
     "cell_type": "code",
     "collapsed": false,
     "input": [
      "# Federal monthly withholding for a married person\n",
      "\n",
      "federal_brackets = [(325, '10'), (1023, '15'), (3163, '25'),\n",
      "                    (6050, '28'), (9050, '33'), (15906, '35'),\n",
      "                    (17925, '39.6')]\n",
      "federal_monthly = TaxSchedule(federal_brackets)\n",
      "\n",
      "df['fedwh'] = df['wage'].map(federal_monthly.compute_tax_on)\n",
      "\n",
      "print df"
     ],
     "language": "python",
     "metadata": {},
     "outputs": [
      {
       "output_type": "stream",
       "stream": "stdout",
       "text": [
        "        wage    fedwh\n",
        "1   11000.00  2596.05\n",
        "2   11000.00  2596.05\n",
        "3   11000.00  2596.05\n",
        "4   11000.00  2596.05\n",
        "5   11000.00  2596.05\n",
        "6   11000.00  2596.05\n",
        "7   11000.00  2596.05\n",
        "8   11000.00  2596.05\n",
        "9   11000.00  2596.05\n",
        "10  11000.00  2596.05\n",
        "11  11000.00  2596.05\n",
        "12  11000.00  2596.05\n"
       ]
      }
     ],
     "prompt_number": 5
    },
    {
     "cell_type": "markdown",
     "metadata": {},
     "source": [
      "## Aggregate operations apply to whole columns at once"
     ]
    },
    {
     "cell_type": "code",
     "collapsed": false,
     "input": [
      "# For 2014\n",
      "ss_limit = d('117,000.00')\n",
      "ss_rate = d('0.062')\n",
      "mc_rate = d('0.0145')"
     ],
     "language": "python",
     "metadata": {},
     "outputs": [],
     "prompt_number": 6
    },
    {
     "cell_type": "code",
     "collapsed": false,
     "input": [
      "cumwage = df['wage'].cumsum()\n",
      "print cumwage"
     ],
     "language": "python",
     "metadata": {},
     "outputs": [
      {
       "output_type": "stream",
       "stream": "stdout",
       "text": [
        "1      11000.00\n",
        "2      22000.00\n",
        "3      33000.00\n",
        "4      44000.00\n",
        "5      55000.00\n",
        "6      66000.00\n",
        "7      77000.00\n",
        "8      88000.00\n",
        "9      99000.00\n",
        "10    110000.00\n",
        "11    121000.00\n",
        "12    132000.00\n",
        "dtype: object\n"
       ]
      }
     ],
     "prompt_number": 7
    },
    {
     "cell_type": "code",
     "collapsed": false,
     "input": [
      "ss_cumwage = cumwage.clip_upper(ss_limit)\n",
      "print ss_cumwage"
     ],
     "language": "python",
     "metadata": {},
     "outputs": [
      {
       "output_type": "stream",
       "stream": "stdout",
       "text": [
        "1      11000.00\n",
        "2      22000.00\n",
        "3      33000.00\n",
        "4      44000.00\n",
        "5      55000.00\n",
        "6      66000.00\n",
        "7      77000.00\n",
        "8      88000.00\n",
        "9      99000.00\n",
        "10    110000.00\n",
        "11    117000.00\n",
        "12    117000.00\n",
        "dtype: object\n"
       ]
      }
     ],
     "prompt_number": 8
    },
    {
     "cell_type": "code",
     "collapsed": false,
     "input": [
      "print ss_cumwage.diff()"
     ],
     "language": "python",
     "metadata": {},
     "outputs": [
      {
       "output_type": "stream",
       "stream": "stdout",
       "text": [
        "1          NaN\n",
        "2     11000.00\n",
        "3     11000.00\n",
        "4     11000.00\n",
        "5     11000.00\n",
        "6     11000.00\n",
        "7     11000.00\n",
        "8     11000.00\n",
        "9     11000.00\n",
        "10    11000.00\n",
        "11     7000.00\n",
        "12        0.00\n",
        "dtype: object\n"
       ]
      }
     ],
     "prompt_number": 9
    },
    {
     "cell_type": "markdown",
     "metadata": {},
     "source": [
      "## Throwaway Series need not live on your DataFrame"
     ]
    },
    {
     "cell_type": "code",
     "collapsed": false,
     "input": [
      "print ss_cumwage.diff().fillna(cumwage[1])"
     ],
     "language": "python",
     "metadata": {},
     "outputs": [
      {
       "output_type": "stream",
       "stream": "stdout",
       "text": [
        "1     11000.00\n",
        "2     11000.00\n",
        "3     11000.00\n",
        "4     11000.00\n",
        "5     11000.00\n",
        "6     11000.00\n",
        "7     11000.00\n",
        "8     11000.00\n",
        "9     11000.00\n",
        "10    11000.00\n",
        "11     7000.00\n",
        "12        0.00\n",
        "dtype: object\n"
       ]
      }
     ],
     "prompt_number": 10
    },
    {
     "cell_type": "code",
     "collapsed": false,
     "input": [
      "ss_wage = (df['wage'].cumsum().clip_upper(ss_limit)\n",
      "                     .diff().fillna(cumwage[1]))\n",
      "ss_wage"
     ],
     "language": "python",
     "metadata": {},
     "outputs": [
      {
       "metadata": {},
       "output_type": "pyout",
       "prompt_number": 11,
       "text": [
        "1     11000.00\n",
        "2     11000.00\n",
        "3     11000.00\n",
        "4     11000.00\n",
        "5     11000.00\n",
        "6     11000.00\n",
        "7     11000.00\n",
        "8     11000.00\n",
        "9     11000.00\n",
        "10    11000.00\n",
        "11     7000.00\n",
        "12        0.00\n",
        "dtype: object"
       ]
      }
     ],
     "prompt_number": 11
    },
    {
     "cell_type": "code",
     "collapsed": false,
     "input": [
      "ss_wage * ss_rate"
     ],
     "language": "python",
     "metadata": {},
     "outputs": [
      {
       "metadata": {},
       "output_type": "pyout",
       "prompt_number": 12,
       "text": [
        "1     682.00000\n",
        "2     682.00000\n",
        "3     682.00000\n",
        "4     682.00000\n",
        "5     682.00000\n",
        "6     682.00000\n",
        "7     682.00000\n",
        "8     682.00000\n",
        "9     682.00000\n",
        "10    682.00000\n",
        "11    434.00000\n",
        "12      0.00000\n",
        "dtype: object"
       ]
      }
     ],
     "prompt_number": 12
    },
    {
     "cell_type": "code",
     "collapsed": false,
     "input": [
      "[c(tax) for tax in ss_wage * ss_rate]"
     ],
     "language": "python",
     "metadata": {},
     "outputs": [
      {
       "metadata": {},
       "output_type": "pyout",
       "prompt_number": 13,
       "text": [
        "[Decimal('682.00'),\n",
        " Decimal('682.00'),\n",
        " Decimal('682.00'),\n",
        " Decimal('682.00'),\n",
        " Decimal('682.00'),\n",
        " Decimal('682.00'),\n",
        " Decimal('682.00'),\n",
        " Decimal('682.00'),\n",
        " Decimal('682.00'),\n",
        " Decimal('682.00'),\n",
        " Decimal('434.00'),\n",
        " Decimal('0.00')]"
       ]
      }
     ],
     "prompt_number": 13
    },
    {
     "cell_type": "code",
     "collapsed": false,
     "input": [
      "df['ss_tax'] = (ss_wage * ss_rate).map(c)\n",
      "df['mc_tax'] = (df['wage'] * mc_rate).map(c)\n",
      "print df"
     ],
     "language": "python",
     "metadata": {},
     "outputs": [
      {
       "output_type": "stream",
       "stream": "stdout",
       "text": [
        "        wage    fedwh  ss_tax  mc_tax\n",
        "1   11000.00  2596.05  682.00  159.50\n",
        "2   11000.00  2596.05  682.00  159.50\n",
        "3   11000.00  2596.05  682.00  159.50\n",
        "4   11000.00  2596.05  682.00  159.50\n",
        "5   11000.00  2596.05  682.00  159.50\n",
        "6   11000.00  2596.05  682.00  159.50\n",
        "7   11000.00  2596.05  682.00  159.50\n",
        "8   11000.00  2596.05  682.00  159.50\n",
        "9   11000.00  2596.05  682.00  159.50\n",
        "10  11000.00  2596.05  682.00  159.50\n",
        "11  11000.00  2596.05  434.00  159.50\n",
        "12  11000.00  2596.05    0.00  159.50\n"
       ]
      }
     ],
     "prompt_number": 14
    },
    {
     "cell_type": "code",
     "collapsed": false,
     "input": [
      "# Ohio monthly withholding\n",
      "\n",
      "ohio_exemption = Decimal('650')\n",
      "ohio_brackets = [(0, '0.5'), (5000, '1'), (10000, '2'), (15000, '2.5'),\n",
      "                 (20000, 3), (40000, '3.5'), (80000, '4'), (100000, '5')]\n",
      "ohio_monthly = TaxSchedule(ohio_brackets, ohio_exemption / Decimal('12'))\n",
      "\n",
      "df['statewh'] = df['wage'].map(ohio_monthly.compute_tax_on)\n",
      "\n",
      "print df"
     ],
     "language": "python",
     "metadata": {},
     "outputs": [
      {
       "output_type": "stream",
       "stream": "stdout",
       "text": [
        "        wage    fedwh  ss_tax  mc_tax statewh\n",
        "1   11000.00  2596.05  682.00  159.50   95.00\n",
        "2   11000.00  2596.05  682.00  159.50   95.00\n",
        "3   11000.00  2596.05  682.00  159.50   95.00\n",
        "4   11000.00  2596.05  682.00  159.50   95.00\n",
        "5   11000.00  2596.05  682.00  159.50   95.00\n",
        "6   11000.00  2596.05  682.00  159.50   95.00\n",
        "7   11000.00  2596.05  682.00  159.50   95.00\n",
        "8   11000.00  2596.05  682.00  159.50   95.00\n",
        "9   11000.00  2596.05  682.00  159.50   95.00\n",
        "10  11000.00  2596.05  682.00  159.50   95.00\n",
        "11  11000.00  2596.05  434.00  159.50   95.00\n",
        "12  11000.00  2596.05    0.00  159.50   95.00\n"
       ]
      }
     ],
     "prompt_number": 15
    },
    {
     "cell_type": "code",
     "collapsed": false,
     "input": [
      "df['paycheck'] = (df['wage'] - df['fedwh'] - df['ss_tax']\n",
      "                  - df['mc_tax'] - df['statewh'])\n",
      "\n",
      "print df"
     ],
     "language": "python",
     "metadata": {},
     "outputs": [
      {
       "output_type": "stream",
       "stream": "stdout",
       "text": [
        "        wage    fedwh  ss_tax  mc_tax statewh paycheck\n",
        "1   11000.00  2596.05  682.00  159.50   95.00  7467.45\n",
        "2   11000.00  2596.05  682.00  159.50   95.00  7467.45\n",
        "3   11000.00  2596.05  682.00  159.50   95.00  7467.45\n",
        "4   11000.00  2596.05  682.00  159.50   95.00  7467.45\n",
        "5   11000.00  2596.05  682.00  159.50   95.00  7467.45\n",
        "6   11000.00  2596.05  682.00  159.50   95.00  7467.45\n",
        "7   11000.00  2596.05  682.00  159.50   95.00  7467.45\n",
        "8   11000.00  2596.05  682.00  159.50   95.00  7467.45\n",
        "9   11000.00  2596.05  682.00  159.50   95.00  7467.45\n",
        "10  11000.00  2596.05  682.00  159.50   95.00  7467.45\n",
        "11  11000.00  2596.05  434.00  159.50   95.00  7715.45\n",
        "12  11000.00  2596.05    0.00  159.50   95.00  8149.45\n"
       ]
      }
     ],
     "prompt_number": 16
    },
    {
     "cell_type": "markdown",
     "metadata": {},
     "source": [
      "## Reporting becomes easy"
     ]
    },
    {
     "cell_type": "code",
     "collapsed": false,
     "input": [
      "print 'September payroll stub:'\n",
      "print df.ix[9]"
     ],
     "language": "python",
     "metadata": {},
     "outputs": [
      {
       "output_type": "stream",
       "stream": "stdout",
       "text": [
        "September payroll stub:\n",
        "wage        11000.00\n",
        "fedwh        2596.05\n",
        "ss_tax        682.00\n",
        "mc_tax        159.50\n",
        "statewh        95.00\n",
        "paycheck     7467.45\n",
        "Name: 9, dtype: object\n"
       ]
      }
     ],
     "prompt_number": 17
    },
    {
     "cell_type": "code",
     "collapsed": false,
     "input": [],
     "language": "python",
     "metadata": {},
     "outputs": [],
     "prompt_number": 17
    }
   ],
   "metadata": {}
  }
 ]
}