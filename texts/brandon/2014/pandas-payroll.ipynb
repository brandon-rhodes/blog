{
 "metadata": {
  "date": "14 February 2014",
  "name": "",
  "tags": "Python"
 },
 "nbformat": 3,
 "nbformat_minor": 0,
 "worksheets": [
  {
   "cells": [
    {
     "cell_type": "markdown",
     "metadata": {},
     "source": [
      "# Learning Pandas through payroll taxes and paystubs\n",
      "\n",
      "I will admit it:\n",
      "I only thought to pull out [Pandas](http://pandas.pydata.org/)\n",
      "when my Python script was nearly complete,\n",
      "because running `print` on a Pandas data frame\n",
      "would save me the trouble of formatting 12 rows of data by hand.\n",
      "\n",
      "But as I added the `import` statement,\n",
      "it suddenly struck me\n",
      "that Pandas aggregate operations\n",
      "might be able to replace some of the steps inside my big `for` loop.\n",
      "Half an hour later,\n",
      "my loop had disappeared completely\n",
      "and my entire script was reduced\n",
      "to a short sequence of Pandas method calls!\n",
      "\n",
      "This post is a brief tour of the final script,\n",
      "written up as [an IPython notebook](http://rhodesmill.org/brandon/2014/pandas-payroll.ipynb)\n",
      "and organized around five basic lessons\n",
      "that I learned about Pandas by applying it to this problem.\n",
      "\n",
      "## 1. Pandas lets you bring your own objects\n",
      "\n",
      "The most surprising feature\n",
      "of tools like the NumPy vector library and the Pandas data series\n",
      "might be that they let you bring your own objects to the party.\n",
      "\n",
      "Since they were invented to efficiently pack\n",
      "millions of floating-point values into a single Python object,\n",
      "you might think that these libraries would only work\n",
      "with numeric types that they themselves can express as vectors.\n",
      "But in fact they have a clean fallback behavior\n",
      "when faced with alternative numeric types:\n",
      "they essentially turn into Python lists,\n",
      "and keep a separate reference to each object that you have supplied.\n",
      "When asked to perform their famous aggregate operations \u2014\n",
      "this is the crucial step \u2014\n",
      "they simply turn to the objects\n",
      "and call the `__add__()` or `__mul__()` method of every single item\n",
      "to build the result.\n",
      "\n",
      "When doing taxes and pay stubs\n",
      "we always want to use Python `Decimal` objects\n",
      "to guarantee correctness and careful rounding to cents,\n",
      "which we can implement with a simple `c()` function:"
     ]
    },
    {
     "cell_type": "code",
     "collapsed": false,
     "input": [
      "from decimal import Decimal\n",
      "\n",
      "one_cent = Decimal('0.01')\n",
      "\n",
      "def c(value):\n",
      "    \"Convert `value` to Decimal cents.\"\n",
      "    return Decimal(value).quantize(one_cent)"
     ],
     "language": "python",
     "metadata": {},
     "outputs": [],
     "prompt_number": 1
    },
    {
     "cell_type": "markdown",
     "metadata": {},
     "source": [
      "You might think that my next step\n",
      "will be building a twelve-element list\n",
      "with which to initialize the monthly wages\n",
      "in our payroll table.\n",
      "But data frames let us do something simpler:\n",
      "we can supply a single value for a column,\n",
      "and Pandas will automatically broadcast it\n",
      "across the whole index that we have defined.\n",
      "Here we set up the twelve calendar months of the year\n",
      "and imagine the simple case\n",
      "of someone who makes the same wage every month:"
     ]
    },
    {
     "cell_type": "code",
     "collapsed": false,
     "input": [
      "import pandas as pd\n",
      "from calendar import month_abbr\n",
      "\n",
      "df = pd.DataFrame(index=month_abbr[1:])\n",
      "df['wage'] = c('11000.00')\n",
      "print df"
     ],
     "language": "python",
     "metadata": {},
     "outputs": [
      {
       "output_type": "stream",
       "stream": "stdout",
       "text": [
        "         wage\n",
        "Jan  11000.00\n",
        "Feb  11000.00\n",
        "Mar  11000.00\n",
        "Apr  11000.00\n",
        "May  11000.00\n",
        "Jun  11000.00\n",
        "Jul  11000.00\n",
        "Aug  11000.00\n",
        "Sep  11000.00\n",
        "Oct  11000.00\n",
        "Nov  11000.00\n",
        "Dec  11000.00\n"
       ]
      }
     ],
     "prompt_number": 2
    },
    {
     "cell_type": "markdown",
     "metadata": {},
     "source": [
      "An example wage of $11,000 per month might sound grandiose,\n",
      "but I have chosen it so that this example\n",
      "reaches Social Security wage limit by the end of the year\n",
      "to test whether we model it correctly in our data frame.\n",
      "\n",
      "## 2. Mapping is suddenly worth it\n",
      "\n",
      "The second surprise of working with Pandas\n",
      "is the convenience of its `map()` method,\n",
      "<!--more-->\n",
      "which lets us build a new series\n",
      "by passing each element of an existing series\n",
      "through a transform function.\n",
      "Here, for example,\n",
      "we compute the federal withholding that will be due\n",
      "each month for our employee\n",
      "by using the `TaxSchedule` object of my\n",
      "[Luca accounting library](https://github.com/brandon-rhodes/luca):"
     ]
    },
    {
     "cell_type": "code",
     "collapsed": false,
     "input": [
      "federal_brackets = [(325, '10'), (1023, '15'), (3163, '25'),\n",
      "                    (6050, '28'), (9050, '33'), (15906, '35'),\n",
      "                    (17925, '39.6')]\n",
      "\n",
      "from luca.taxes import TaxSchedule\n",
      "federal_monthly = TaxSchedule(federal_brackets)\n",
      "\n",
      "df['fedwh'] = df['wage'].map(federal_monthly.compute_tax_on)\n",
      "print df"
     ],
     "language": "python",
     "metadata": {},
     "outputs": [
      {
       "output_type": "stream",
       "stream": "stdout",
       "text": [
        "         wage    fedwh\n",
        "Jan  11000.00  2596.05\n",
        "Feb  11000.00  2596.05\n",
        "Mar  11000.00  2596.05\n",
        "Apr  11000.00  2596.05\n",
        "May  11000.00  2596.05\n",
        "Jun  11000.00  2596.05\n",
        "Jul  11000.00  2596.05\n",
        "Aug  11000.00  2596.05\n",
        "Sep  11000.00  2596.05\n",
        "Oct  11000.00  2596.05\n",
        "Nov  11000.00  2596.05\n",
        "Dec  11000.00  2596.05\n"
       ]
      }
     ],
     "prompt_number": 3
    },
    {
     "cell_type": "markdown",
     "metadata": {},
     "source": [
      "It surprised me that mapping was so pleasant,\n",
      "because the current Python habit is to avoid `map()` \u2014\n",
      "which, after all, [Guido nearly removed from Python\u00a03\u2019s built-ins](http://www.artima.com/weblogs/viewpost.jsp?thread=98196) \u2014\n",
      "in favor of list comprehensions.\n",
      "Not only are comprehensions far more general\n",
      "because they can pivot from calling a function\n",
      "to computing any other kind of expression for each input item,\n",
      "but they actually look like they are calling a function\n",
      "because its name gets followed by parentheses\n",
      "just as in any other function call:"
     ]
    },
    {
     "cell_type": "code",
     "collapsed": false,
     "input": [
      "# List comprehension versus calling map()\n",
      "\n",
      "line1 = [federal_monthly.compute_tax_on(w) for w in df['wage']]\n",
      "line2 = df['wage'].map(federal_monthly.compute_tax_on)"
     ],
     "language": "python",
     "metadata": {},
     "outputs": [],
     "prompt_number": 4
    },
    {
     "cell_type": "markdown",
     "metadata": {},
     "source": [
      "But in the particular case of Pandas\n",
      "a comprehension has disadvantages.\n",
      "\n",
      "First, it adds syntactic noise.\n",
      "Line 1 is not simply longer than line\u00a02,\n",
      "but visually busier as well.\n",
      "Iteration that ought to be quietly implied inside of a vector\n",
      "becomes an external and noisy `for` loop instead.\n",
      "The eye has to travel to check that the `w` loop item\n",
      "is indeed the input to the function.\n",
      "And an extra pair of square brackets surrounds the whole affair.\n",
      "\n",
      "The second disadvantage is small for this particular data set,\n",
      "but still conceptually regrettable:\n",
      "the list comprehension spins up an extra throw-away `list`\n",
      "as a temporary holding pen\n",
      "for the values that are really destined to live\n",
      "inside the Pandas data frame.\n",
      "\n",
      "Finally, you will soon see\n",
      "that chaining Pandas method calls one after another\n",
      "is a pretty common way to take an input series,\n",
      "perform a useful sequence of operations upon it,\n",
      "and be left with a useful result.\n",
      "Method calls to `map()` dovetail perfectly inside of this pattern,\n",
      "while list comprehensions make you break out of it.\n",
      "\n",
      "So my Pandas code\n",
      "not only features my only calls to a `map()` routine these days,\n",
      "but tends to do it pretty often \u2014\n",
      "and is simpler and cleaner as a result!\n",
      "\n",
      "## 3. Pandas operations can go down, not just across\n",
      "\n",
      "My first exposure to Pandas, and to NumPy for that matter,\n",
      "involved two kinds of operations.\n",
      "First, there were binary operators like ``a + b``\n",
      "that we normally think of as involving two numbers,\n",
      "but that when applied to whole vectors\n",
      "might do thousands or millions of pairwise operations instead.\n",
      "Second, there were aggregate operators,\n",
      "that take an entire vector and produce its minimum, maximum, sum,\n",
      "or even full statistics about the contents.\n",
      "\n",
      "But the key to computing payroll taxes\n",
      "is to perform a third kind of operation:\n",
      "a cumulative sum of the wages paid to date\n",
      "so that the result can be compared with the Social Security wage limit,\n",
      "the point at which one\u2019s Social Security obligation for the year\n",
      "is complete:"
     ]
    },
    {
     "cell_type": "code",
     "collapsed": false,
     "input": [
      "# For 2014\n",
      "ss_limit = c('117000.00')\n",
      "ss_rate = Decimal('0.062')\n",
      "mc_rate = Decimal('0.0145')"
     ],
     "language": "python",
     "metadata": {},
     "outputs": [],
     "prompt_number": 5
    },
    {
     "cell_type": "markdown",
     "metadata": {},
     "source": [
      "It turns out that Pandas has a cumulative operator\n",
      "that fits this situation perfectly!\n",
      "The `cumsum()` method takes a series as its input\n",
      "and produces a series of cumulative totals instead:"
     ]
    },
    {
     "cell_type": "code",
     "collapsed": false,
     "input": [
      "print df['wage'].cumsum()"
     ],
     "language": "python",
     "metadata": {},
     "outputs": [
      {
       "output_type": "stream",
       "stream": "stdout",
       "text": [
        "Jan     11000.00\n",
        "Feb     22000.00\n",
        "Mar     33000.00\n",
        "Apr     44000.00\n",
        "May     55000.00\n",
        "Jun     66000.00\n",
        "Jul     77000.00\n",
        "Aug     88000.00\n",
        "Sep     99000.00\n",
        "Oct    110000.00\n",
        "Nov    121000.00\n",
        "Dec    132000.00\n",
        "dtype: object\n"
       ]
      }
     ],
     "prompt_number": 6
    },
    {
     "cell_type": "markdown",
     "metadata": {},
     "source": [
      "After computing this cumulative sum,\n",
      "we can apply the Social Security limit\n",
      "using the convenient `clip_upper()` method \u2014\n",
      "which took me several minutes to find,\n",
      "because I somehow thought that *minimum*\n",
      "would have wound up somewhere in its name \u2014\n",
      "to assure that we incur no additional tax obligation\n",
      "once the limit has been reached.\n",
      "\n",
      "Thanks to how cleanly Pandas methods chain together,\n",
      "this can simply be added as another step\n",
      "beyond the `cumsum()` call:"
     ]
    },
    {
     "cell_type": "code",
     "collapsed": false,
     "input": [
      "cum_ss_wage = df['wage'].cumsum().clip_upper(ss_limit)\n",
      "print cum_ss_wage"
     ],
     "language": "python",
     "metadata": {},
     "outputs": [
      {
       "output_type": "stream",
       "stream": "stdout",
       "text": [
        "Jan     11000.00\n",
        "Feb     22000.00\n",
        "Mar     33000.00\n",
        "Apr     44000.00\n",
        "May     55000.00\n",
        "Jun     66000.00\n",
        "Jul     77000.00\n",
        "Aug     88000.00\n",
        "Sep     99000.00\n",
        "Oct    110000.00\n",
        "Nov    117000.00\n",
        "Dec    117000.00\n",
        "dtype: object\n"
       ]
      }
     ],
     "prompt_number": 7
    },
    {
     "cell_type": "markdown",
     "metadata": {},
     "source": [
      "Finally, we need to step backwards.\n",
      "Having created a cumulative sum involving the wages earned to date,\n",
      "we need to split out each month\u2019s earnings\n",
      "back into a separate stand-alone value.\n",
      "\n",
      "Pandas supports this with a `diff()` method\n",
      "that is the opposite of `cumsum()`\n",
      "except that the first row of the result will be `NaN`\n",
      "(the numerics code for \u201cnot a number\u201d)\n",
      "because pairwise subtraction between twelve rows of data\n",
      "produces only eleven values.\n",
      "No problem!\n",
      "Not-a-number comes up so often in data operations\n",
      "that Pandas provides a `fillna()` method\n",
      "that lets us restore that first value\n",
      "from our original series of monthly wages."
     ]
    },
    {
     "cell_type": "code",
     "collapsed": false,
     "input": [
      "ss_wage = cum_ss_wage.diff().fillna(df['wage'])\n",
      "print ss_wage"
     ],
     "language": "python",
     "metadata": {},
     "outputs": [
      {
       "output_type": "stream",
       "stream": "stdout",
       "text": [
        "Jan    11000.00\n",
        "Feb    11000.00\n",
        "Mar    11000.00\n",
        "Apr    11000.00\n",
        "May    11000.00\n",
        "Jun    11000.00\n",
        "Jul    11000.00\n",
        "Aug    11000.00\n",
        "Sep    11000.00\n",
        "Oct    11000.00\n",
        "Nov     7000.00\n",
        "Dec        0.00\n",
        "dtype: object\n"
       ]
      }
     ],
     "prompt_number": 8
    },
    {
     "cell_type": "markdown",
     "metadata": {},
     "source": [
      "We now know exactly how many dollars\n",
      "are susceptible to Social Security tax each month,\n",
      "and are ready to finish out our data frame.\n",
      "\n",
      "## 4. Throwaway series need not live in your data frame\n",
      "\n",
      "In an early version of this computation,\n",
      "I was faithfully attaching each of the intermediate series\n",
      "that we computed above as new columns to my growing data frame.\n",
      "Between the `fedwh` column and the `ss_tax` column in the table below,\n",
      "imagine seeing all of my intermediate results \u2014\n",
      "extra columns with names like `cumwage`, `cumw_clipped`,\n",
      "`clipped_diff`, and `ss_wage`.\n",
      "To make a reasonable display of the table,\n",
      "I had to cut more than half of its columns out!\n",
      "\n",
      "It was therefore something of an epiphany\n",
      "to realize that intermediate data series\n",
      "need not be stored in the data frame at all.\n",
      "Look at `ss_wage` from the previous section as a perfect example:\n",
      "even though I have kept it outside my data frame as a stand-alone series,\n",
      "it follows all the same rules as data frame columns,\n",
      "participates in aggregate operations,\n",
      "and even gets to use the data frame\u2019s own index.\n",
      "\n",
      "Stand-alone series keep my data frame clean.\n",
      "I save as columns only the outputs that need to be displayed,\n",
      "like the Social Security and Medicare taxes\n",
      "that get printed on a monthly pay stub:"
     ]
    },
    {
     "cell_type": "code",
     "collapsed": false,
     "input": [
      "df['ss_tax'] = (ss_wage * ss_rate).map(c)\n",
      "df['mc_tax'] = (df['wage'] * mc_rate).map(c)\n",
      "print df"
     ],
     "language": "python",
     "metadata": {},
     "outputs": [
      {
       "output_type": "stream",
       "stream": "stdout",
       "text": [
        "         wage    fedwh  ss_tax  mc_tax\n",
        "Jan  11000.00  2596.05  682.00  159.50\n",
        "Feb  11000.00  2596.05  682.00  159.50\n",
        "Mar  11000.00  2596.05  682.00  159.50\n",
        "Apr  11000.00  2596.05  682.00  159.50\n",
        "May  11000.00  2596.05  682.00  159.50\n",
        "Jun  11000.00  2596.05  682.00  159.50\n",
        "Jul  11000.00  2596.05  682.00  159.50\n",
        "Aug  11000.00  2596.05  682.00  159.50\n",
        "Sep  11000.00  2596.05  682.00  159.50\n",
        "Oct  11000.00  2596.05  682.00  159.50\n",
        "Nov  11000.00  2596.05  434.00  159.50\n",
        "Dec  11000.00  2596.05    0.00  159.50\n"
       ]
      }
     ],
     "prompt_number": 9
    },
    {
     "cell_type": "markdown",
     "metadata": {},
     "source": [
      "At this point our data frame is almost complete!\n",
      "We need only compute one last withholding schedule\n",
      "and perform the big subtraction\n",
      "that figures out how much money\n",
      "actually gets sent home with the employee each month,\n",
      "and we will be done:"
     ]
    },
    {
     "cell_type": "code",
     "collapsed": false,
     "input": [
      "# Ohio monthly withholding\n",
      "\n",
      "ohio_brackets = [(0, '0.5'), (5000, '1'), (10000, '2'),\n",
      "                 (15000, '2.5'), (20000, 3), (40000, '3.5'),\n",
      "                 (80000, '4'), (100000, '5')]\n",
      "ohio_exemption = c('650.00') / Decimal('12')\n",
      "ohio_monthly = TaxSchedule(ohio_brackets, ohio_exemption)\n",
      "\n",
      "df['statewh'] = df['wage'].map(ohio_monthly.compute_tax_on)\n",
      "\n",
      "df['paycheck'] = (df['wage'] - df['fedwh'] - df['ss_tax']\n",
      "                  - df['mc_tax'] - df['statewh'])\n",
      "\n",
      "print df"
     ],
     "language": "python",
     "metadata": {},
     "outputs": [
      {
       "output_type": "stream",
       "stream": "stdout",
       "text": [
        "         wage    fedwh  ss_tax  mc_tax statewh paycheck\n",
        "Jan  11000.00  2596.05  682.00  159.50   95.00  7467.45\n",
        "Feb  11000.00  2596.05  682.00  159.50   95.00  7467.45\n",
        "Mar  11000.00  2596.05  682.00  159.50   95.00  7467.45\n",
        "Apr  11000.00  2596.05  682.00  159.50   95.00  7467.45\n",
        "May  11000.00  2596.05  682.00  159.50   95.00  7467.45\n",
        "Jun  11000.00  2596.05  682.00  159.50   95.00  7467.45\n",
        "Jul  11000.00  2596.05  682.00  159.50   95.00  7467.45\n",
        "Aug  11000.00  2596.05  682.00  159.50   95.00  7467.45\n",
        "Sep  11000.00  2596.05  682.00  159.50   95.00  7467.45\n",
        "Oct  11000.00  2596.05  682.00  159.50   95.00  7467.45\n",
        "Nov  11000.00  2596.05  434.00  159.50   95.00  7715.45\n",
        "Dec  11000.00  2596.05    0.00  159.50   95.00  8149.45\n"
       ]
      }
     ],
     "prompt_number": 10
    },
    {
     "cell_type": "markdown",
     "metadata": {},
     "source": [
      "Note again that all of this math\n",
      "has been performed by real first-class `Decimal` objects\n",
      "doing the same rounding that is implemented by the Internal Revenue Service.\n",
      "This is a grid of true decimal objects \u2014\n",
      "organized and displayed by Pandas,\n",
      "but to which Pandas is always deferring the actual math.\n",
      "\n",
      "## 5. Reporting becomes easy\n",
      "\n",
      "Finally, my Pandas data frame\n",
      "not only did a great job of formatting itself for terminal output \u2014\n",
      "exempting me from the fussy job\n",
      "of measuring column widths, justifying fields, and adding whitespace \u2014\n",
      "but it could effortlessly slice and aggrate the table as well.\n",
      "Here, for instance, is an individual pay stub for September:"
     ]
    },
    {
     "cell_type": "code",
     "collapsed": false,
     "input": [
      "print 'September payroll stub:'\n",
      "print df.ix['Sep']"
     ],
     "language": "python",
     "metadata": {},
     "outputs": [
      {
       "output_type": "stream",
       "stream": "stdout",
       "text": [
        "September payroll stub:\n",
        "wage        11000.00\n",
        "fedwh        2596.05\n",
        "ss_tax        682.00\n",
        "mc_tax        159.50\n",
        "statewh        95.00\n",
        "paycheck     7467.45\n",
        "Name: Sep, dtype: object\n"
       ]
      }
     ],
     "prompt_number": 11
    },
    {
     "cell_type": "markdown",
     "metadata": {},
     "source": [
      "And generating a W-2 for delivery to the employee\n",
      "at year\u2019s end is as simple as applying Python\u2019s `sum` routine to each column\n",
      "\u2014 the data frame does have a `sum()` method,\n",
      "but it seems to insist on operating in floating point \u2014\n",
      "and letting Pandas display the result:"
     ]
    },
    {
     "cell_type": "code",
     "collapsed": false,
     "input": [
      "print 'End-of-year W-2'\n",
      "print df.apply(sum)"
     ],
     "language": "python",
     "metadata": {},
     "outputs": [
      {
       "output_type": "stream",
       "stream": "stdout",
       "text": [
        "End-of-year W-2\n",
        "wage        132000.00\n",
        "fedwh        31152.60\n",
        "ss_tax        7254.00\n",
        "mc_tax        1914.00\n",
        "statewh       1140.00\n",
        "paycheck     90539.40\n",
        "dtype: object\n"
       ]
      }
     ],
     "prompt_number": 12
    },
    {
     "cell_type": "markdown",
     "metadata": {},
     "source": [
      "When I first saw Pandas touted,\n",
      "I planned to use it the next time I had a big problem \u2014\n",
      "like a million-line Apache log file.\n",
      "But it turns out to do just as well with tiny problems.\n",
      "Unlike heavyweight solutions\n",
      "that are not worth trotting out and setting up\n",
      "unless one has a truly big problem to deploy them against,\n",
      "Pandas scaled right down to my twelve-line paystub table\n",
      "and made my code simpler and easier to maintain.\n",
      "\n",
      "Even on a tiny data set it is more than worth it to import `pandas`,\n",
      "set up your index, and get to work!"
     ]
    }
   ],
   "metadata": {}
  }
 ]
}