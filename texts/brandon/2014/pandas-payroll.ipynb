{
 "metadata": {
  "name": ""
 },
 "nbformat": 3,
 "nbformat_minor": 0,
 "worksheets": [
  {
   "cells": [
    {
     "cell_type": "markdown",
     "metadata": {},
     "source": [
      "## Pandas lets you bring your own objects"
     ]
    },
    {
     "cell_type": "code",
     "collapsed": false,
     "input": [
      "%pylab inline\n",
      "import pandas as pd\n",
      "from decimal import Decimal\n",
      "\n",
      "one_cent = Decimal('0.01')\n",
      "\n",
      "def c(value):\n",
      "    \"Convert `value` to Decimal cents.\"\n",
      "    return Decimal(value).quantize(one_cent)"
     ],
     "language": "python",
     "metadata": {},
     "outputs": [
      {
       "output_type": "stream",
       "stream": "stdout",
       "text": [
        "Populating the interactive namespace from numpy and matplotlib\n"
       ]
      }
     ],
     "prompt_number": 1
    },
    {
     "cell_type": "code",
     "collapsed": false,
     "input": [
      "df = pd.DataFrame(index=range(1, 12+1))\n",
      "df['wage'] = c('11000.00')\n",
      "print df"
     ],
     "language": "python",
     "metadata": {},
     "outputs": [
      {
       "output_type": "stream",
       "stream": "stdout",
       "text": [
        "        wage\n",
        "1   11000.00\n",
        "2   11000.00\n",
        "3   11000.00\n",
        "4   11000.00\n",
        "5   11000.00\n",
        "6   11000.00\n",
        "7   11000.00\n",
        "8   11000.00\n",
        "9   11000.00\n",
        "10  11000.00\n",
        "11  11000.00\n",
        "12  11000.00\n"
       ]
      }
     ],
     "prompt_number": 2
    },
    {
     "cell_type": "markdown",
     "metadata": {},
     "source": [
      "## Mapping is suddenly worth it"
     ]
    },
    {
     "cell_type": "code",
     "collapsed": false,
     "input": [
      "# Federal monthly withholding for a married person\n",
      "\n",
      "federal_brackets = [(325, '10'), (1023, '15'), (3163, '25'),\n",
      "                    (6050, '28'), (9050, '33'), (15906, '35'),\n",
      "                    (17925, '39.6')]\n",
      "\n",
      "from luca.taxes import TaxSchedule\n",
      "federal_monthly = TaxSchedule(federal_brackets)\n",
      "df['fedwh'] = df['wage'].map(federal_monthly.compute_tax_on)\n",
      "\n",
      "print df"
     ],
     "language": "python",
     "metadata": {},
     "outputs": [
      {
       "output_type": "stream",
       "stream": "stdout",
       "text": [
        "        wage    fedwh\n",
        "1   11000.00  2596.05\n",
        "2   11000.00  2596.05\n",
        "3   11000.00  2596.05\n",
        "4   11000.00  2596.05\n",
        "5   11000.00  2596.05\n",
        "6   11000.00  2596.05\n",
        "7   11000.00  2596.05\n",
        "8   11000.00  2596.05\n",
        "9   11000.00  2596.05\n",
        "10  11000.00  2596.05\n",
        "11  11000.00  2596.05\n",
        "12  11000.00  2596.05\n"
       ]
      }
     ],
     "prompt_number": 3
    },
    {
     "cell_type": "markdown",
     "metadata": {},
     "source": [
      "\n",
      "\n",
      "    1. [federal_monthly.compute_tax_on(w) for w in df['wage']]\n",
      "    2. df['wage'].map(federal_monthly.compute_tax_on)\n"
     ]
    },
    {
     "cell_type": "markdown",
     "metadata": {},
     "source": [
      "## Aggregate operations apply to whole columns at once"
     ]
    },
    {
     "cell_type": "code",
     "collapsed": false,
     "input": [
      "# For 2014\n",
      "ss_limit = c('117000.00')\n",
      "ss_rate = Decimal('0.062')\n",
      "mc_rate = Decimal('0.0145')"
     ],
     "language": "python",
     "metadata": {},
     "outputs": [],
     "prompt_number": 4
    },
    {
     "cell_type": "code",
     "collapsed": false,
     "input": [
      "print df['wage'].cumsum()"
     ],
     "language": "python",
     "metadata": {},
     "outputs": [
      {
       "output_type": "stream",
       "stream": "stdout",
       "text": [
        "1      11000.00\n",
        "2      22000.00\n",
        "3      33000.00\n",
        "4      44000.00\n",
        "5      55000.00\n",
        "6      66000.00\n",
        "7      77000.00\n",
        "8      88000.00\n",
        "9      99000.00\n",
        "10    110000.00\n",
        "11    121000.00\n",
        "12    132000.00\n",
        "dtype: object\n"
       ]
      }
     ],
     "prompt_number": 5
    },
    {
     "cell_type": "code",
     "collapsed": false,
     "input": [
      "cum_ss_wage = df['wage'].cumsum().clip_upper(ss_limit)\n",
      "print cum_ss_wage"
     ],
     "language": "python",
     "metadata": {},
     "outputs": [
      {
       "output_type": "stream",
       "stream": "stdout",
       "text": [
        "1      11000.00\n",
        "2      22000.00\n",
        "3      33000.00\n",
        "4      44000.00\n",
        "5      55000.00\n",
        "6      66000.00\n",
        "7      77000.00\n",
        "8      88000.00\n",
        "9      99000.00\n",
        "10    110000.00\n",
        "11    117000.00\n",
        "12    117000.00\n",
        "dtype: object\n"
       ]
      }
     ],
     "prompt_number": 6
    },
    {
     "cell_type": "code",
     "collapsed": false,
     "input": [
      "ss_wage = cum_ss_wage.diff().fillna(cum_ss_wage)\n",
      "print ss_wage"
     ],
     "language": "python",
     "metadata": {},
     "outputs": [
      {
       "output_type": "stream",
       "stream": "stdout",
       "text": [
        "1     11000.00\n",
        "2     11000.00\n",
        "3     11000.00\n",
        "4     11000.00\n",
        "5     11000.00\n",
        "6     11000.00\n",
        "7     11000.00\n",
        "8     11000.00\n",
        "9     11000.00\n",
        "10    11000.00\n",
        "11     7000.00\n",
        "12        0.00\n",
        "dtype: object\n"
       ]
      }
     ],
     "prompt_number": 7
    },
    {
     "cell_type": "markdown",
     "metadata": {},
     "source": [
      "## Throwaway Series need not live on your DataFrame"
     ]
    },
    {
     "cell_type": "code",
     "collapsed": false,
     "input": [
      "df['ss_tax'] = (ss_wage * ss_rate).map(c)\n",
      "df['mc_tax'] = (df['wage'] * mc_rate).map(c)\n",
      "\n",
      "print df"
     ],
     "language": "python",
     "metadata": {},
     "outputs": [
      {
       "output_type": "stream",
       "stream": "stdout",
       "text": [
        "        wage    fedwh  ss_tax  mc_tax\n",
        "1   11000.00  2596.05  682.00  159.50\n",
        "2   11000.00  2596.05  682.00  159.50\n",
        "3   11000.00  2596.05  682.00  159.50\n",
        "4   11000.00  2596.05  682.00  159.50\n",
        "5   11000.00  2596.05  682.00  159.50\n",
        "6   11000.00  2596.05  682.00  159.50\n",
        "7   11000.00  2596.05  682.00  159.50\n",
        "8   11000.00  2596.05  682.00  159.50\n",
        "9   11000.00  2596.05  682.00  159.50\n",
        "10  11000.00  2596.05  682.00  159.50\n",
        "11  11000.00  2596.05  434.00  159.50\n",
        "12  11000.00  2596.05    0.00  159.50\n"
       ]
      }
     ],
     "prompt_number": 8
    },
    {
     "cell_type": "code",
     "collapsed": false,
     "input": [
      "# Ohio monthly withholding\n",
      "\n",
      "ohio_brackets = [(0, '0.5'), (5000, '1'), (10000, '2'),\n",
      "                 (15000, '2.5'), (20000, 3), (40000, '3.5'),\n",
      "                 (80000, '4'), (100000, '5')]\n",
      "ohio_exemption = c('650.00') / Decimal('12')\n",
      "ohio_monthly = TaxSchedule(ohio_brackets, ohio_exemption)\n",
      "\n",
      "df['statewh'] = df['wage'].map(ohio_monthly.compute_tax_on)\n",
      "\n",
      "print df"
     ],
     "language": "python",
     "metadata": {},
     "outputs": [
      {
       "output_type": "stream",
       "stream": "stdout",
       "text": [
        "        wage    fedwh  ss_tax  mc_tax statewh\n",
        "1   11000.00  2596.05  682.00  159.50   95.00\n",
        "2   11000.00  2596.05  682.00  159.50   95.00\n",
        "3   11000.00  2596.05  682.00  159.50   95.00\n",
        "4   11000.00  2596.05  682.00  159.50   95.00\n",
        "5   11000.00  2596.05  682.00  159.50   95.00\n",
        "6   11000.00  2596.05  682.00  159.50   95.00\n",
        "7   11000.00  2596.05  682.00  159.50   95.00\n",
        "8   11000.00  2596.05  682.00  159.50   95.00\n",
        "9   11000.00  2596.05  682.00  159.50   95.00\n",
        "10  11000.00  2596.05  682.00  159.50   95.00\n",
        "11  11000.00  2596.05  434.00  159.50   95.00\n",
        "12  11000.00  2596.05    0.00  159.50   95.00\n"
       ]
      }
     ],
     "prompt_number": 9
    },
    {
     "cell_type": "code",
     "collapsed": false,
     "input": [
      "df['paycheck'] = (df['wage'] - df['fedwh'] - df['ss_tax']\n",
      "                  - df['mc_tax'] - df['statewh'])\n",
      "\n",
      "print df"
     ],
     "language": "python",
     "metadata": {},
     "outputs": [
      {
       "output_type": "stream",
       "stream": "stdout",
       "text": [
        "        wage    fedwh  ss_tax  mc_tax statewh paycheck\n",
        "1   11000.00  2596.05  682.00  159.50   95.00  7467.45\n",
        "2   11000.00  2596.05  682.00  159.50   95.00  7467.45\n",
        "3   11000.00  2596.05  682.00  159.50   95.00  7467.45\n",
        "4   11000.00  2596.05  682.00  159.50   95.00  7467.45\n",
        "5   11000.00  2596.05  682.00  159.50   95.00  7467.45\n",
        "6   11000.00  2596.05  682.00  159.50   95.00  7467.45\n",
        "7   11000.00  2596.05  682.00  159.50   95.00  7467.45\n",
        "8   11000.00  2596.05  682.00  159.50   95.00  7467.45\n",
        "9   11000.00  2596.05  682.00  159.50   95.00  7467.45\n",
        "10  11000.00  2596.05  682.00  159.50   95.00  7467.45\n",
        "11  11000.00  2596.05  434.00  159.50   95.00  7715.45\n",
        "12  11000.00  2596.05    0.00  159.50   95.00  8149.45\n"
       ]
      }
     ],
     "prompt_number": 10
    },
    {
     "cell_type": "markdown",
     "metadata": {},
     "source": [
      "## Reporting becomes easy"
     ]
    },
    {
     "cell_type": "code",
     "collapsed": false,
     "input": [
      "print 'September payroll stub:'\n",
      "print df.ix[9]"
     ],
     "language": "python",
     "metadata": {},
     "outputs": [
      {
       "output_type": "stream",
       "stream": "stdout",
       "text": [
        "September payroll stub:\n",
        "wage        11000.00\n",
        "fedwh        2596.05\n",
        "ss_tax        682.00\n",
        "mc_tax        159.50\n",
        "statewh        95.00\n",
        "paycheck     7467.45\n",
        "Name: 9, dtype: object\n"
       ]
      }
     ],
     "prompt_number": 11
    },
    {
     "cell_type": "code",
     "collapsed": false,
     "input": [
      "print 'End-of-year W-2'\n",
      "print df.sum()"
     ],
     "language": "python",
     "metadata": {},
     "outputs": [
      {
       "output_type": "stream",
       "stream": "stdout",
       "text": [
        "End-of-year W-2\n",
        "wage        132000.0\n",
        "fedwh        31152.6\n",
        "ss_tax        7254.0\n",
        "mc_tax        1914.0\n",
        "statewh       1140.0\n",
        "paycheck     90539.4\n",
        "dtype: float64\n"
       ]
      }
     ],
     "prompt_number": 12
    }
   ],
   "metadata": {}
  }
 ]
}