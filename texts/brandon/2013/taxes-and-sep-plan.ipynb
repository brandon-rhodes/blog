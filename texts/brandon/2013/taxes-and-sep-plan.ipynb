{
 "metadata": {
  "name": ""
 },
 "nbformat": 3,
 "nbformat_minor": 0,
 "worksheets": [
  {
   "cells": [
    {
     "cell_type": "markdown",
     "metadata": {},
     "source": [
      "# An IPython Notebook comparing four retirement accounts\n",
      "\n",
      "If you have elected S-corporation status for your small consultancy\n",
      "and maintain yourself as the only employee,\n",
      "then you have an interesting choice in front of you each year:\n",
      "at what level should you set your own salary?\n",
      "\n",
      "I used to think that the answer was simple:\n",
      "that the salary should be as low as possible\n",
      "because every additional dollar allocated to salary\n",
      "incurs Social Security and Medicare tax.\n",
      "This sets up a tug-of-war between your annual income \u2014\n",
      "which benefits from as low a declared salary as possible \u2014\n",
      "and your conscience and the tax courts,\n",
      "which both demand that your salary be high enough\n",
      "to compare favorably with others doing the same work\n",
      "out in larger corporations.\n",
      "\n",
      "But it turns out that once your consultancy has its head above water,\n",
      "and you begin to think about establishing a retirement account,\n",
      "that the answer becomes far more interesting.\n",
      "This IPython Notebook explores the issue,\n",
      "and can be downloaded at the following link\n",
      "if you want to experiment with it yourself:\n",
      "\n",
      "[taxes-and-retirement.ipynb](http://rhodesmill.org/brandon/2013/taxes-and-retirement.ipynb)\n",
      "\n",
      "So that plots render inline, we will start by activating\n",
      "the `pylab` environment:"
     ]
    },
    {
     "cell_type": "code",
     "collapsed": false,
     "input": [
      "%pylab inline\n",
      "pylab.rcParams['figure.figsize'] = (8.0, 6.0)"
     ],
     "language": "python",
     "metadata": {},
     "outputs": []
    },
    {
     "cell_type": "markdown",
     "metadata": {},
     "source": [
      "And before considering any retirement plans,\n",
      "we had better explore our baseline \u2014\n",
      "a small one-person S Corporation \u2014\n",
      "and see why the \u201ctake the minimum possible salary\u201d\n",
      "rule applies.\n",
      "\n",
      "## Personal taxes\n",
      "\n",
      "Personal income tax is assessed on your \u201cTaxable income\u201d\n",
      "as tallied on Line 43 of your\n",
      "[Form 1040 (PDF)](http://www.irs.gov/pub/irs-pdf/f1040.pdf)\n",
      "and involves mulitplying each successive dollar\n",
      "by the rate of the \u201ctax bracket\u201d into which it falls.\n",
      "Here are the tax brackets for 2013\n",
      "for the four basic categories of taxpayer,\n",
      "indexed by the abbreviations used in IRS tax form PDF fields:"
     ]
    },
    {
     "cell_type": "code",
     "collapsed": false,
     "input": [
      "brackets = {\n",
      "    'S': [  # Single\n",
      "        (0, 8925, 0.10),\n",
      "        (8925, 36250, 0.15),\n",
      "        (36250, 87850, 0.25),\n",
      "        (87850, 183250, 0.28),\n",
      "        (183250, 398350, 0.33),\n",
      "        (398350, 400000, 0.35),\n",
      "        (400000, inf, 0.396),\n",
      "        ],\n",
      "    'MJ': [  # Married filing jointly\n",
      "        (0, 17850, 0.10),\n",
      "        (17850, 72500, 0.15),\n",
      "        (72500, 146400, 0.25),\n",
      "        (146400, 223050, 0.28),\n",
      "        (223050, 389350, 0.33),\n",
      "        (389350, 450000, 0.35),\n",
      "        (450000, inf, 0.396),\n",
      "        ],\n",
      "    'MS': [  # Married filing separately\n",
      "        (0, 8925, 0.10),\n",
      "        (8925, 36250, 0.15),\n",
      "        (36250, 73200, 0.25),\n",
      "        (73200, 111525, 0.28),\n",
      "        (111525, 199175, 0.33),\n",
      "        (199175, 225000, 0.35),\n",
      "        (225000, inf, 0.396),\n",
      "        ],\n",
      "    'HoH': [  # Head of household\n",
      "        (0, 12750, 0.10),\n",
      "        (12750, 48600, 0.15),\n",
      "        (48600, 125450, 0.25),\n",
      "        (125450, 203150, 0.28),\n",
      "        (203150, 398350, 0.33),\n",
      "        (398350, 425000, 0.35),\n",
      "        (425000, inf, 0.396),\n",
      "        ],\n",
      "    }"
     ],
     "language": "python",
     "metadata": {},
     "outputs": []
    },
    {
     "cell_type": "markdown",
     "metadata": {},
     "source": [
      "The tax due on a particular amount of taxable income\n",
      "can be computing by simply looping over the brackets\n",
      "and tallying up the product of each tax rate\n",
      "times the dollars that fall into that bracket:"
     ]
    },
    {
     "cell_type": "code",
     "collapsed": false,
     "input": [
      "def compute_income_tax(taxable_income, status):\n",
      "    \"Return the income tax due on `wages`.\"\n",
      "    tax = 0.00\n",
      "    for bottom, top, rate in brackets[status]:\n",
      "        top = minimum(top, taxable_income)\n",
      "        dollars = maximum(0.00, top - bottom)\n",
      "        tax += rate * dollars\n",
      "    return tax"
     ],
     "language": "python",
     "metadata": {},
     "outputs": []
    },
    {
     "cell_type": "markdown",
     "metadata": {},
     "source": [
      "As the United States Congress intends,\n",
      "this tax regime produces a much smaller relative tax liability\n",
      "at low income levels than it produces at higher incomes.\n",
      "We can see this if we graph the \u201cbite\u201d that taxes take\n",
      "out of an increasing level of taxable income \u2014\n",
      "the red wedge representing taxes is proportionally more narrow\n",
      "at lower income levels:"
     ]
    },
    {
     "cell_type": "code",
     "collapsed": false,
     "input": [
      "income = arange(100.00, 500000.00, 100.00)\n",
      "fill_between(income, 0.00, income,\n",
      "    color='#8888ff')\n",
      "fill_between(income, 0.00,\n",
      "    compute_income_tax(income, 'MJ'),\n",
      "    color='#ff8888')\n",
      "xlabel('Taxable income')\n",
      "ylabel('Taxable income (blue), Taxes due (red)')"
     ],
     "language": "python",
     "metadata": {},
     "outputs": []
    },
    {
     "cell_type": "markdown",
     "metadata": {},
     "source": [
      "This relationship is even clearer\n",
      "if instead of eyeballing the red area of the graph\n",
      "we simply divide the tax liability by the income\n",
      "to produce the \u201ceffective\u201d tax rate at each income level:\n",
      "it starts small at 10% and then ramps quickly\n",
      "towards 30% and (to the right of this graph) beyond:"
     ]
    },
    {
     "cell_type": "code",
     "collapsed": false,
     "input": [
      "plot(income, compute_income_tax(income, 'MJ') / income)\n",
      "ylim(0.00)\n",
      "xlabel('Taxable income')\n",
      "ylabel('Effective tax rate')"
     ],
     "language": "python",
     "metadata": {},
     "outputs": []
    },
    {
     "cell_type": "markdown",
     "metadata": {},
     "source": [
      "Finally, we can visualize the progressive tax structure\n",
      "by computing the \u201cmarginal\u201d tax rate\n",
      "at which each additional dollar earned at income level $x$ is taxed.\n",
      "The NumPy `diff()` function is perfect for this:"
     ]
    },
    {
     "cell_type": "code",
     "collapsed": false,
     "input": [
      "fill_between(income[1:], diff(compute_income_tax(income, 'MJ')))\n",
      "ylim(0)\n",
      "xlabel('Taxable income')\n",
      "ylabel('Marginal tax rate')"
     ],
     "language": "python",
     "metadata": {},
     "outputs": []
    },
    {
     "cell_type": "markdown",
     "metadata": {},
     "source": [
      "Do three graphs of the same tax regime seem repetitive?\n",
      "My purpose in including all three\n",
      "is actually to make sure that the `compute_income_tax()` function\n",
      "is behaving as expected, before we start building more logic upon it!\n",
      "\n",
      "Another quantity that we will need\n",
      "is the total exemptions for a given tax filing,\n",
      "which \u2014 assuming no children \u2014 can be tallied quite easily:"
     ]
    },
    {
     "cell_type": "code",
     "collapsed": false,
     "input": [
      "def compute_exemptions(status):\n",
      "    n = 2 if status.startswith('M') else 1\n",
      "    return 3800.00 * n"
     ],
     "language": "python",
     "metadata": {},
     "outputs": []
    },
    {
     "cell_type": "markdown",
     "metadata": {},
     "source": [
      "Finally, we need the current rates at which income is taxed\n",
      "for the Social Security and Medicare taxes,\n",
      "a pair of taxes that are levied against every employee in the United States.\n",
      "Unlike personal income taxes,\n",
      "these two taxes cannot be disputed or adjusted or reduced;\n",
      "there is no equivalent to \u201cForm 1040\u201d for Social Security or Medicare\n",
      "through which an employee can get a refund at the end of the year!"
     ]
    },
    {
     "cell_type": "code",
     "collapsed": false,
     "input": [
      "employer_social_security_rate = 0.062\n",
      "employer_medicare_rate = 0.0145\n",
      "\n",
      "employee_social_security_rate = 0.062\n",
      "employee_medicare_rate = 0.0145\n",
      "\n",
      "social_security_wage_base = 113700.00"
     ],
     "language": "python",
     "metadata": {},
     "outputs": []
    },
    {
     "cell_type": "markdown",
     "metadata": {},
     "source": [
      "With these numbers defined, we are ready to proceed.\n",
      "\n",
      "## How S-Corporation Taxes Work\n",
      "\n",
      "My own filing status is \u201cmarried filing jointly\u201d\n",
      "but since you might later want to run this IPython Notebook\n",
      "against your own circumstances,\n",
      "I am defining it here so that you can change it in one place:"
     ]
    },
    {
     "cell_type": "code",
     "collapsed": false,
     "input": [
      "my_status = 'MJ'"
     ],
     "language": "python",
     "metadata": {},
     "outputs": []
    },
    {
     "cell_type": "markdown",
     "metadata": {},
     "source": [
      "Now, how do the earnings of your S Corporation reach your pocketbook?\n",
      "\n",
      "The earnings reach you in two different ways:\n",
      "\n",
      "1. As a *salary* paid to you as monthly *wages.*\n",
      "2. Any remaining profit becomes a *distribution* at year's end.\n",
      "\n",
      "This distinction, it turns out, carries moral import.\n",
      "You earn your salary through the labor\n",
      "that you perform on behalf of the S Corporation.\n",
      "But you earn your distributions\n",
      "as the investor who started and capitalized the business\n",
      "and took the risk that it would not succeed.\n",
      "\n",
      "But until you have established your salary level,\n",
      "the \u201cextra\u201d monies that will be produced by your S Corporation\n",
      "this year are available to become either salary or distributions.\n",
      "Since there does not seem to be a formal technical term\n",
      "for these monies before they are so divided,\n",
      "I will have to invent an informal one\n",
      "for the convenience of this notebook!\n",
      "\n",
      "> **Gravy** \u2014 as in the phrase \u201ceverything else is gravy,\u201d\n",
      "  we here use the term to mean \u201ceverything else\u201d left over\n",
      "  when all of the fixed costs of our S Corporation\n",
      "  have been accounted for.\n",
      "  Defined more precisely:\n",
      "  gravy is what is produced on Line 21 \u201cOrdinary business income\u201d\n",
      "  of [Form 1120S](http://www.irs.gov/pub/irs-pdf/f1120s.pdf\u200e)\n",
      "  if we set Line 7 \u201cCompensation of Officers\u201d to zero\n",
      "  and include zero Social Security or Medicare taxes\n",
      "  related to officer compensation\n",
      "  on Line 12 \u201cTaxes and licenses.\u201d\n",
      "  \n"
     ]
    },
    {
     "cell_type": "code",
     "collapsed": false,
     "input": [
      "def tax_plain(gravy, wages, status):\n",
      "    ss_wages = minimum(wages, social_security_wage_base)\n",
      "\n",
      "    # s = Form 1120S,\n",
      "    # \"U.S. Income Tax Return for an S Corporation\"\n",
      "\n",
      "    s7 = wages\n",
      "    s12 = (ss_wages * employer_social_security_rate\n",
      "            + wages * employer_medicare_rate)\n",
      "    s21 = gravy - s7 - s12\n",
      "    ordinary_business_income = s21\n",
      "\n",
      "    # w = Form W-2,\n",
      "    # \"Wage and Tax Statement\"\n",
      "\n",
      "    w4 = ss_wages * employee_social_security_rate\n",
      "    w6 = wages * employee_medicare_rate\n",
      "\n",
      "    # i = Form 1040,\n",
      "    # \"U.S. Individual Income Tax Return\"\n",
      "\n",
      "    i7 = wages\n",
      "    i17 = ordinary_business_income\n",
      "    taxable_income = i7 + i17 - compute_exemptions(status)\n",
      "    income_tax = compute_income_tax(taxable_income, status)\n",
      "\n",
      "    return s12 + w4 + w6 + income_tax"
     ],
     "language": "python",
     "metadata": {},
     "outputs": []
    },
    {
     "cell_type": "code",
     "collapsed": false,
     "input": [
      "def graph_businesses(plan, *args):\n",
      "    gravies = arange(40000.00, 250001.00, 20000.00)\n",
      "    for gravy in gravies:\n",
      "        wages = arange(0.00, gravy, 1000.00)\n",
      "        plot(wages, plan(gravy, wages, my_status, *args))\n",
      "    xlabel('Gravy paid as wages')\n",
      "    ylabel('Tax incurred')"
     ],
     "language": "python",
     "metadata": {},
     "outputs": []
    },
    {
     "cell_type": "code",
     "collapsed": false,
     "input": [
      "graph_businesses(tax_plain)"
     ],
     "language": "python",
     "metadata": {},
     "outputs": []
    },
    {
     "cell_type": "code",
     "collapsed": false,
     "input": [
      "compute_income_tax(50000.00, my_status)"
     ],
     "language": "python",
     "metadata": {},
     "outputs": []
    },
    {
     "cell_type": "code",
     "collapsed": false,
     "input": [
      "# Increasing salary from $100,000 to $100,001\n",
      "# in the absence of any retirement plan\n",
      "\n",
      "print 1.00 * (0.062 + 0.062 + 0.0145 + 0.0145)\n",
      "\n",
      "# ...while contributing the maximum to a SEP\n",
      "\n",
      "print 1.00 * (0.062 + 0.062 + 0.0145 + 0.0145) - 0.25 * (0.28)"
     ],
     "language": "python",
     "metadata": {},
     "outputs": []
    },
    {
     "cell_type": "code",
     "collapsed": false,
     "input": [
      "# Increasing salary from $150,000 to $150,001\n",
      "# in the absence of any retirement plan\n",
      "\n",
      "print 1.00 * (0.0145 + 0.0145)\n",
      "\n",
      "# ...while contributing the maximum to a SEP\n",
      "\n",
      "print 1.00 * (0.0145 + 0.0145) - 0.25 * (0.33)"
     ],
     "language": "python",
     "metadata": {},
     "outputs": []
    },
    {
     "cell_type": "code",
     "collapsed": false,
     "input": [
      "def tax_simple(gravy, wages, status, do_match):\n",
      "    ss_wages = minimum(wages, social_security_wage_base)\n",
      "    employee_contribution = minimum(wages, 12000.00)\n",
      "    if do_match:\n",
      "        employer_contribution = minimum(wages * 0.03,\n",
      "            employee_contribution)\n",
      "    else:\n",
      "        employer_contribution = wages * 0.02\n",
      "\n",
      "    # s = Form 1120S,\n",
      "    # \"U.S. Income Tax Return for an S Corporation\"\n",
      "\n",
      "    s7 = wages\n",
      "    s12 = (ss_wages * employer_social_security_rate\n",
      "            + wages * employer_medicare_rate)\n",
      "    s17 = employer_contribution\n",
      "    s21 = gravy - s7 - s12 - s17\n",
      "    ordinary_business_income = s21\n",
      "\n",
      "    # w = Form W-2,\n",
      "    # \"Wage and Tax Statement\"\n",
      "\n",
      "    w4 = ss_wages * employee_social_security_rate\n",
      "    w6 = wages * employee_medicare_rate\n",
      "\n",
      "    # i = Form 1040,\n",
      "    # \"U.S. Individual Income Tax Return\"\n",
      "\n",
      "    i7 = wages - employee_contribution\n",
      "    i17 = ordinary_business_income\n",
      "    taxable_income = i7 + i17 - compute_exemptions(status)\n",
      "    income_tax = compute_income_tax(taxable_income, status)\n",
      "\n",
      "    return s12 + w4 + w6 + income_tax"
     ],
     "language": "python",
     "metadata": {},
     "outputs": []
    },
    {
     "cell_type": "code",
     "collapsed": false,
     "input": [
      "graph_businesses(tax_simple, True)"
     ],
     "language": "python",
     "metadata": {},
     "outputs": []
    },
    {
     "cell_type": "code",
     "collapsed": false,
     "input": [
      "def tax_sep(gravy, wages, status):\n",
      "    ss_wages = minimum(wages, social_security_wage_base)\n",
      "    sep_wages = minimum(wages, 255000.00)\n",
      "    sep = minimum(sep_wages * 0.25, 51000.00)\n",
      "\n",
      "    # s = Form 1120S,\n",
      "    # \"U.S. Income Tax Return for an S Corporation\"\n",
      "\n",
      "    s7 = wages\n",
      "    s12 = (ss_wages * employer_social_security_rate\n",
      "            + wages * employer_medicare_rate)\n",
      "    s17 = sep\n",
      "    s21 = gravy - s7 - s12 - s17\n",
      "    ordinary_business_income = s21\n",
      "\n",
      "    # w = Form W-2,\n",
      "    # \"Wage and Tax Statement\"\n",
      "\n",
      "    w4 = ss_wages * employee_social_security_rate\n",
      "    w6 = wages * employee_medicare_rate\n",
      "\n",
      "    # i = Form 1040,\n",
      "    # \"U.S. Individual Income Tax Return\"\n",
      "\n",
      "    i7 = wages\n",
      "    i17 = ordinary_business_income\n",
      "    taxable_income = i7 + i17 - compute_exemptions(status)\n",
      "    income_tax = compute_income_tax(taxable_income, status)\n",
      "\n",
      "    return s12 + w4 + w6 + income_tax"
     ],
     "language": "python",
     "metadata": {},
     "outputs": []
    },
    {
     "cell_type": "code",
     "collapsed": false,
     "input": [
      "graph_businesses(tax_sep)"
     ],
     "language": "python",
     "metadata": {},
     "outputs": []
    },
    {
     "cell_type": "code",
     "collapsed": false,
     "input": [
      "def tax_solo_401k(gravy, wages, status):\n",
      "    ss_wages = minimum(wages, social_security_wage_base)\n",
      "    deferrals = minimum(wages, 17500.00)\n",
      "    contributions = wages * 0.25\n",
      "\n",
      "    # Contributions cannot exceed 100% of wages.\n",
      "\n",
      "    contributions = minimum(contributions, wages - deferrals)\n",
      "\n",
      "    # Make sure not to exceed the per-contributor limit!\n",
      "\n",
      "    contributions = minimum(contributions, 51000.00 - deferrals)\n",
      "\n",
      "    # s = Form 1120S,\n",
      "    # \"U.S. Income Tax Return for an S Corporation\"\n",
      "\n",
      "    s7 = wages\n",
      "    s12 = (ss_wages * employer_social_security_rate\n",
      "            + wages * employer_medicare_rate)\n",
      "    s17 = contributions\n",
      "    s21 = gravy - s7 - s12 - s17\n",
      "    ordinary_business_income = s21\n",
      "\n",
      "    # w = Form W-2,\n",
      "    # \"Wage and Tax Statement\"\n",
      "\n",
      "    w4 = ss_wages * employee_social_security_rate\n",
      "    w6 = wages * employee_medicare_rate\n",
      "\n",
      "    # i = Form 1040,\n",
      "    # \"U.S. Individual Income Tax Return\"\n",
      "\n",
      "    i7 = wages - deferrals\n",
      "    i17 = ordinary_business_income\n",
      "    taxable_income = i7 + i17 - compute_exemptions(status)\n",
      "    income_tax = compute_income_tax(taxable_income, status)\n",
      "\n",
      "    return s12 + w4 + w6 + income_tax"
     ],
     "language": "python",
     "metadata": {},
     "outputs": []
    },
    {
     "cell_type": "code",
     "collapsed": false,
     "input": [
      "graph_businesses(tax_solo_401k)"
     ],
     "language": "python",
     "metadata": {},
     "outputs": []
    },
    {
     "cell_type": "code",
     "collapsed": false,
     "input": [
      "def compare_plans(gravy):\n",
      "    wages = arange(0.00, gravy, 1000.00)\n",
      "    plot(wages, tax_plain(gravy, wages, my_status),\n",
      "         label='None')\n",
      "    plot(wages, tax_sep(gravy, wages, my_status),\n",
      "         label='SEP')\n",
      "    plot(wages, tax_simple(gravy, wages, my_status, True),\n",
      "         label='Simple (matching)')\n",
      "    plot(wages, tax_simple(gravy, wages, my_status, False),\n",
      "         label='Simple (nonelective)')\n",
      "    plot(wages, tax_solo_401k(gravy, wages, my_status),\n",
      "         label='Solo 401k')\n",
      "    xlabel('Gravy paid as wages')\n",
      "    ylabel('Tax incurred')\n",
      "    legend(loc='center left', bbox_to_anchor=(1, 0.5))"
     ],
     "language": "python",
     "metadata": {},
     "outputs": []
    },
    {
     "cell_type": "code",
     "collapsed": false,
     "input": [
      "compare_plans(150000.00)"
     ],
     "language": "python",
     "metadata": {},
     "outputs": []
    },
    {
     "cell_type": "code",
     "collapsed": false,
     "input": [
      "compare_plans(200000.00)"
     ],
     "language": "python",
     "metadata": {},
     "outputs": []
    },
    {
     "cell_type": "code",
     "collapsed": false,
     "input": [
      "from scipy.optimize import newton\n",
      "#print tax_sep(200000.00, 60000.00, 'MJ')\n",
      "target = tax_sep(200000.00, 200000.00, 'MJ')\n",
      "f = lambda wages: tax_sep(200000.00, wages, 'MJ') - target\n",
      "print newton(f, 50000.00)"
     ],
     "language": "python",
     "metadata": {},
     "outputs": []
    },
    {
     "cell_type": "code",
     "collapsed": false,
     "input": [
      "compare_plans(250000.00)"
     ],
     "language": "python",
     "metadata": {},
     "outputs": []
    },
    {
     "cell_type": "code",
     "collapsed": false,
     "input": [
      "# While contributing the maximum to a SEP,\n",
      "# increasing salary from $100,000 to $100,001\n",
      "\n",
      "print (\n",
      "    1.00 * (0.062 + 0.062 + 0.0145 + 0.0145)  # Form 941\n",
      "    - (0.25 + 0.062 + 0.0145) * (0.33)        # Form 1040\n",
      "    )\n",
      "\n",
      "# ...from $150,000 to $150,001\n",
      "\n",
      "print (\n",
      "    1.00 * (0.0145 + 0.0145)    # Form 941\n",
      "    - (0.25 + 0.0145) * (0.33)  # Form 1040\n",
      "    )"
     ],
     "language": "python",
     "metadata": {},
     "outputs": []
    },
    {
     "cell_type": "code",
     "collapsed": false,
     "input": [],
     "language": "python",
     "metadata": {},
     "outputs": []
    }
   ],
   "metadata": {}
  }
 ]
}