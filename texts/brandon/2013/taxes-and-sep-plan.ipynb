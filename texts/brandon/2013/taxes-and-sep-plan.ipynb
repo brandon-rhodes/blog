{
 "metadata": {
  "name": ""
 },
 "nbformat": 3,
 "nbformat_minor": 0,
 "worksheets": [
  {
   "cells": [
    {
     "cell_type": "code",
     "collapsed": false,
     "input": [
      "%pylab inline"
     ],
     "language": "python",
     "metadata": {},
     "outputs": []
    },
    {
     "cell_type": "code",
     "collapsed": false,
     "input": [
      "employer_social_security_rate = 0.062\n",
      "employer_medicare_rate = 0.0145\n",
      "\n",
      "employee_social_security_rate = 0.062\n",
      "employee_medicare_rate = 0.0145\n",
      "\n",
      "social_security_wage_base = 113700.00"
     ],
     "language": "python",
     "metadata": {},
     "outputs": []
    },
    {
     "cell_type": "code",
     "collapsed": false,
     "input": [
      "brackets = {\n",
      "    'S': [\n",
      "        (0.00, 0.10),\n",
      "        (8925.00, 0.15),\n",
      "        (36250.00, 0.25),\n",
      "        (87850.00, 0.28),\n",
      "        (183250.00, 0.33),\n",
      "        (398350.00, 0.35),\n",
      "        (400000.00, 0.396),\n",
      "        ],\n",
      "    'MJ': [\n",
      "        (0.00, 0.10),\n",
      "        (17850.00, 0.15),\n",
      "        (72500.00, 0.25),\n",
      "        (146400.00, 0.28),\n",
      "        (223050.00, 0.33),\n",
      "        (389350.00, 0.35),\n",
      "        (450000.00, 0.396),\n",
      "        ],\n",
      "    'MS': [\n",
      "        (0.00, 0.10),\n",
      "        (8925.00, 0.15),\n",
      "        (36250.00, 0.25),\n",
      "        (73200.00, 0.28),\n",
      "        (111525.00, 0.33),\n",
      "        (199175.00, 0.35),\n",
      "        (225000.00, 0.396),\n",
      "        ],\n",
      "    'HoH': [\n",
      "        (0.00, 0.10),\n",
      "        (12750.00, 0.15),\n",
      "        (48600.00, 0.25),\n",
      "        (125450.00, 0.28),\n",
      "        (203150.00, 0.33),\n",
      "        (398350.00, 0.35),\n",
      "        (425000.00, 0.396),\n",
      "        ],\n",
      "    }\n",
      "\n",
      "def compute_exemptions(status):\n",
      "    return 3800.00 * (2 if status.startswith('M') else 1)\n",
      "\n",
      "def compute_income_tax(taxable_income, status):\n",
      "    \"Return the income tax due on `wages`.\"\n",
      "    ti = taxable_income\n",
      "    tax = 0.00\n",
      "    for cutoff, rate in reversed(brackets[status]):\n",
      "        #print maximum(wages - cutoff, 0.00)\n",
      "        tax += rate * maximum(ti - cutoff, 0.00)\n",
      "        ti = minimum(ti, cutoff)\n",
      "    return tax"
     ],
     "language": "python",
     "metadata": {},
     "outputs": []
    },
    {
     "cell_type": "code",
     "collapsed": false,
     "input": [
      "print compute_exemptions('MJ')\n",
      "print compute_income_tax(98625, 'S')"
     ],
     "language": "python",
     "metadata": {},
     "outputs": []
    },
    {
     "cell_type": "code",
     "collapsed": false,
     "input": [
      "income = arange(0.00, 500001.00, 100.00)\n",
      "p = plot(income, compute_income_tax(income, 'MJ'))"
     ],
     "language": "python",
     "metadata": {},
     "outputs": []
    },
    {
     "cell_type": "code",
     "collapsed": false,
     "input": [
      "ylim(0, 40.00)\n",
      "p = plot(income[1:], diff(compute_income_tax(income, 'MJ')))"
     ],
     "language": "python",
     "metadata": {},
     "outputs": []
    },
    {
     "cell_type": "code",
     "collapsed": false,
     "input": [
      "my_status = 'MJ'"
     ],
     "language": "python",
     "metadata": {},
     "outputs": []
    },
    {
     "cell_type": "code",
     "collapsed": false,
     "input": [
      "def plain_income_tax(gravy, wages, status):\n",
      "    ss_wages = minimum(wages, social_security_wage_base)\n",
      "\n",
      "    # s = Form 1120S,\n",
      "    # \"U.S. Income Tax Return for an S Corporation\"\n",
      "\n",
      "    s7 = wages\n",
      "    s12 = (ss_wages * employer_social_security_rate\n",
      "            + wages * employer_medicare_rate)\n",
      "    s21 = gravy - s7 - s12\n",
      "    ordinary_business_income = s21\n",
      "\n",
      "    # w = Form W-2,\n",
      "    # \"Wage and Tax Statement\"\n",
      "\n",
      "    w4 = ss_wages * employee_social_security_rate\n",
      "    w6 = wages * employee_medicare_rate\n",
      "\n",
      "    # i = Form 1040,\n",
      "    # \"U.S. Individual Income Tax Return\"\n",
      "\n",
      "    i7 = wages\n",
      "    i17 = ordinary_business_income\n",
      "    taxable_income = i7 + i17 - compute_exemptions(status)\n",
      "    income_tax = compute_income_tax(taxable_income, status)\n",
      "\n",
      "    return s12 + w4 + w6 + income_tax"
     ],
     "language": "python",
     "metadata": {},
     "outputs": []
    },
    {
     "cell_type": "code",
     "collapsed": false,
     "input": [
      "def graph_businesses(plan, *args):\n",
      "    gravies = arange(40000.00, 600001.00, 20000.00)\n",
      "    for gravy in gravies:\n",
      "        wages = arange(0.00, gravy, 1000.00)\n",
      "        plot(wages, plan(gravy, wages, my_status, *args))\n",
      "    xlabel('Gravy paid as wages')\n",
      "    ylabel('Tax incurred')"
     ],
     "language": "python",
     "metadata": {},
     "outputs": []
    },
    {
     "cell_type": "code",
     "collapsed": false,
     "input": [
      "graph_businesses(plain_income_tax)"
     ],
     "language": "python",
     "metadata": {},
     "outputs": []
    },
    {
     "cell_type": "code",
     "collapsed": false,
     "input": [
      "compute_income_tax(50000.00, my_status)"
     ],
     "language": "python",
     "metadata": {},
     "outputs": []
    },
    {
     "cell_type": "code",
     "collapsed": false,
     "input": [
      "def tax_simple(gravy, wages, status, do_match):\n",
      "    ss_wages = minimum(wages, social_security_wage_base)\n",
      "    employee_contribution = minimum(wages, 12000.00)\n",
      "    if do_match:\n",
      "        employer_contribution = minimum(wages * 0.03,\n",
      "            employee_contribution)\n",
      "    else:\n",
      "        employer_contribution = wages * 0.02\n",
      "\n",
      "    # s = Form 1120S,\n",
      "    # \"U.S. Income Tax Return for an S Corporation\"\n",
      "\n",
      "    s7 = wages\n",
      "    s12 = (ss_wages * employer_social_security_rate\n",
      "            + wages * employer_medicare_rate)\n",
      "    s17 = employer_contribution\n",
      "    s21 = gravy - s7 - s12 - s17\n",
      "    ordinary_business_income = s21\n",
      "\n",
      "    # w = Form W-2,\n",
      "    # \"Wage and Tax Statement\"\n",
      "\n",
      "    w4 = ss_wages * employee_social_security_rate\n",
      "    w6 = wages * employee_medicare_rate\n",
      "\n",
      "    # i = Form 1040,\n",
      "    # \"U.S. Individual Income Tax Return\"\n",
      "\n",
      "    i7 = wages - employee_contribution\n",
      "    i17 = ordinary_business_income\n",
      "    taxable_income = i7 + i17 - compute_exemptions(status)\n",
      "    income_tax = compute_income_tax(taxable_income, status)\n",
      "\n",
      "    return s12 + w4 + w6 + income_tax"
     ],
     "language": "python",
     "metadata": {},
     "outputs": []
    },
    {
     "cell_type": "code",
     "collapsed": false,
     "input": [
      "graph_businesses(tax_simple, True)"
     ],
     "language": "python",
     "metadata": {},
     "outputs": []
    },
    {
     "cell_type": "code",
     "collapsed": false,
     "input": [
      "graph_businesses(tax_simple, False)"
     ],
     "language": "python",
     "metadata": {},
     "outputs": []
    },
    {
     "cell_type": "code",
     "collapsed": false,
     "input": [
      "def tax_sep(gravy, wages, status):\n",
      "    ss_wages = minimum(wages, social_security_wage_base)\n",
      "    sep = minimum(wages * 0.25, 51000.00)\n",
      "\n",
      "    # s = Form 1120S,\n",
      "    # \"U.S. Income Tax Return for an S Corporation\"\n",
      "\n",
      "    s7 = wages\n",
      "    s12 = (ss_wages * employer_social_security_rate\n",
      "            + wages * employer_medicare_rate)\n",
      "    s17 = sep\n",
      "    s21 = gravy - s7 - s12 - s17\n",
      "    ordinary_business_income = s21\n",
      "\n",
      "    # w = Form W-2,\n",
      "    # \"Wage and Tax Statement\"\n",
      "\n",
      "    w4 = ss_wages * employee_social_security_rate\n",
      "    w6 = wages * employee_medicare_rate\n",
      "\n",
      "    # i = Form 1040,\n",
      "    # \"U.S. Individual Income Tax Return\"\n",
      "\n",
      "    i7 = wages\n",
      "    i17 = ordinary_business_income\n",
      "    taxable_income = i7 + i17 - compute_exemptions(status)\n",
      "    income_tax = compute_income_tax(taxable_income, status)\n",
      "\n",
      "    return s12 + w4 + w6 + income_tax"
     ],
     "language": "python",
     "metadata": {},
     "outputs": []
    },
    {
     "cell_type": "code",
     "collapsed": false,
     "input": [
      "graph_businesses(tax_sep)"
     ],
     "language": "python",
     "metadata": {},
     "outputs": []
    },
    {
     "cell_type": "code",
     "collapsed": false,
     "input": [
      "def compare_plans(gravy):\n",
      "    wages = arange(0.00, gravy, 1000.00)\n",
      "    plot(wages, tax_sep(gravy, wages, my_status),\n",
      "         label='SEP')\n",
      "    plot(wages, tax_simple(gravy, wages, my_status, True),\n",
      "         label='Simple (matching)')\n",
      "    plot(wages, tax_simple(gravy, wages, my_status, False),\n",
      "         label='Simple (nonelective)')\n",
      "    xlabel('Gravy paid as wages')\n",
      "    ylabel('Tax incurred')\n",
      "    legend(loc='center left', bbox_to_anchor=(1, 0.5))"
     ],
     "language": "python",
     "metadata": {},
     "outputs": []
    },
    {
     "cell_type": "code",
     "collapsed": false,
     "input": [
      "compare_plans(150000.00)"
     ],
     "language": "python",
     "metadata": {},
     "outputs": []
    },
    {
     "cell_type": "code",
     "collapsed": false,
     "input": [
      "compare_plans(200000.00)"
     ],
     "language": "python",
     "metadata": {},
     "outputs": []
    },
    {
     "cell_type": "code",
     "collapsed": false,
     "input": [
      "compare_plans(300000.00)"
     ],
     "language": "python",
     "metadata": {},
     "outputs": []
    },
    {
     "cell_type": "code",
     "collapsed": false,
     "input": [],
     "language": "python",
     "metadata": {},
     "outputs": []
    }
   ],
   "metadata": {}
  }
 ]
}