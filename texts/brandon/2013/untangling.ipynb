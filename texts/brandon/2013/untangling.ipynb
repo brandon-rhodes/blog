{
 "metadata": {
  "name": "untangling"
 },
 "nbformat": 3,
 "nbformat_minor": 0,
 "worksheets": [
  {
   "cells": [
    {
     "cell_type": "code",
     "collapsed": false,
     "input": [
      "%pylab inline"
     ],
     "language": "python",
     "metadata": {},
     "outputs": [
      {
       "output_type": "stream",
       "stream": "stdout",
       "text": [
        "\n",
        "Welcome to pylab, a matplotlib-based Python environment [backend: module://IPython.zmq.pylab.backend_inline].\n",
        "For more information, type 'help(pylab)'.\n"
       ]
      }
     ],
     "prompt_number": 1
    },
    {
     "cell_type": "code",
     "collapsed": false,
     "input": [
      "import json\n",
      "with open('pharoahs-chart.json') as f:\n",
      "    edges = sorted(json.load(f))\n",
      "a, verb, b = array(edges).T\n",
      "print 'Loaded', len(verb), 'edges'"
     ],
     "language": "python",
     "metadata": {},
     "outputs": [
      {
       "output_type": "stream",
       "stream": "stdout",
       "text": [
        "Loaded 37 edges\n"
       ]
      }
     ],
     "prompt_number": 2
    },
    {
     "cell_type": "code",
     "collapsed": false,
     "input": [
      "print 'Loaded', len(unique(append(a, b))), 'nodes'"
     ],
     "language": "python",
     "metadata": {},
     "outputs": [
      {
       "output_type": "stream",
       "stream": "stdout",
       "text": [
        "Loaded 15 nodes\n"
       ]
      }
     ],
     "prompt_number": 3
    },
    {
     "cell_type": "code",
     "collapsed": false,
     "input": [
      "def try_predictor(predictor, report=True, verbose=False):\n",
      "    \"\"\"Report on how well a `predictor` function performs.\"\"\"\n",
      "\n",
      "    prediction = vectorize(predictor)(a, b)\n",
      "    match = (prediction == verb)\n",
      "    percent = 100.0 * sum(match) / len(match)\n",
      "    print 'Accuracy: %.03f %%' % percent\n",
      "    if report:\n",
      "        print\n",
      "        for is_match, ai, bi, pi in zip(match, a, b, prediction):\n",
      "            if is_match and not verbose:\n",
      "                continue\n",
      "            print '      ' if is_match else 'WRONG:',\n",
      "            print ai, pi, bi\n",
      "        print"
     ],
     "language": "python",
     "metadata": {},
     "outputs": [],
     "prompt_number": 4
    },
    {
     "cell_type": "code",
     "collapsed": false,
     "input": [
      "try_predictor(lambda a, b: 'supports', report=False)\n",
      "try_predictor(lambda a, b: 'hates', report=False)"
     ],
     "language": "python",
     "metadata": {},
     "outputs": [
      {
       "output_type": "stream",
       "stream": "stdout",
       "text": [
        "Accuracy: 45.946 %\n",
        "Accuracy: 48.649 %\n"
       ]
      }
     ],
     "prompt_number": 5
    },
    {
     "cell_type": "code",
     "collapsed": false,
     "input": [
      "shias = {'Assad', 'Iran', 'Lebanon Shias', 'Russia'}\n",
      "\n",
      "def p1(a, b):\n",
      "    if (a in shias) == (b in shias):\n",
      "        return 'supports'\n",
      "    else:\n",
      "        return 'hates'\n",
      "\n",
      "try_predictor(p1)"
     ],
     "language": "python",
     "metadata": {},
     "outputs": [
      {
       "output_type": "stream",
       "stream": "stdout",
       "text": [
        "Accuracy: 70.270 %\n",
        "\n",
        "WRONG: Al Qaeda supports Saudi & Gulf\n",
        "WRONG: Hamas supports Sisi\n",
        "WRONG: Israel supports Hamas\n",
        "WRONG: Qatar supports Sisi\n",
        "WRONG: Saudi & Gulf supports Muslim Brotherhood\n",
        "WRONG: Sisi supports Muslim Brotherhood\n",
        "WRONG: Turkey supports Sisi\n",
        "WRONG: USA supports Muslim Brotherhood\n",
        "WRONG: USA supports Sisi\n",
        "WRONG: USA supports Al Qaeda\n",
        "WRONG: USA supports Hamas\n",
        "\n"
       ]
      }
     ],
     "prompt_number": 6
    },
    {
     "cell_type": "code",
     "collapsed": false,
     "input": [
      "populists = {'Al Qaeda', 'Hamas', 'Muslim Brotherhood', 'Turkey', 'Qatar'}\n",
      "autocrats = {'Saudi & Gulf', 'Sisi', 'Israel', 'USA'}\n",
      "\n",
      "def p2(a, b):\n",
      "    either = {a, b}\n",
      "    if (a in shias) != (b in shias):\n",
      "        return 'hates'\n",
      "    elif (either & populists) and (either & autocrats):\n",
      "        return 'hates'\n",
      "    else:\n",
      "        return 'supports'\n",
      "\n",
      "try_predictor(p2)"
     ],
     "language": "python",
     "metadata": {},
     "outputs": [
      {
       "output_type": "stream",
       "stream": "stdout",
       "text": [
        "Accuracy: 94.595 %\n",
        "\n",
        "WRONG: USA hates Muslim Brotherhood\n",
        "WRONG: USA supports Sisi\n",
        "\n"
       ]
      }
     ],
     "prompt_number": 7
    },
    {
     "cell_type": "code",
     "collapsed": false,
     "input": [
      "egypt = {'Muslim Brotherhood', 'Sisi'}\n",
      "\n",
      "def p3(a, b):\n",
      "    either = {a, b}\n",
      "    if (a in shias) != (b in shias):\n",
      "        return 'hates'\n",
      "    elif a == 'USA' and b in egypt:\n",
      "        return 'clueless'\n",
      "    elif (either & populists) and (either & autocrats):\n",
      "        return 'hates'\n",
      "    else:\n",
      "        return 'supports'\n",
      "\n",
      "try_predictor(p3)"
     ],
     "language": "python",
     "metadata": {},
     "outputs": [
      {
       "output_type": "stream",
       "stream": "stdout",
       "text": [
        "Accuracy: 100.000 %\n",
        "\n",
        "\n"
       ]
      }
     ],
     "prompt_number": 8
    }
   ],
   "metadata": {}
  }
 ]
}